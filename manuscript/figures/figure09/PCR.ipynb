{
 "cells": [
  {
   "cell_type": "code",
   "execution_count": 1,
   "metadata": {},
   "outputs": [
    {
     "name": "stderr",
     "output_type": "stream",
     "text": [
      "Warning message:\n",
      "“package ‘emmeans’ was built under R version 3.6.2”\n"
     ]
    }
   ],
   "source": [
    "suppressPackageStartupMessages(library(ggplot2))\n",
    "suppressPackageStartupMessages(library(emmeans))\n",
    "suppressPackageStartupMessages(library(tidyverse))\n",
    "suppressPackageStartupMessages(library(export))\n",
    "suppressPackageStartupMessages(library(patchwork))\n",
    "suppressPackageStartupMessages(library(ggpubr))"
   ]
  },
  {
   "cell_type": "code",
   "execution_count": 38,
   "metadata": {},
   "outputs": [
    {
     "data": {
      "text/plain": [
       "               _                           \n",
       "platform       x86_64-apple-darwin15.6.0   \n",
       "arch           x86_64                      \n",
       "os             darwin15.6.0                \n",
       "system         x86_64, darwin15.6.0        \n",
       "status                                     \n",
       "major          3                           \n",
       "minor          6.1                         \n",
       "year           2019                        \n",
       "month          07                          \n",
       "day            05                          \n",
       "svn rev        76782                       \n",
       "language       R                           \n",
       "version.string R version 3.6.1 (2019-07-05)\n",
       "nickname       Action of the Toes          "
      ]
     },
     "metadata": {},
     "output_type": "display_data"
    }
   ],
   "source": [
    "version"
   ]
  },
  {
   "cell_type": "code",
   "execution_count": 2,
   "metadata": {},
   "outputs": [],
   "source": [
    "pars <- function(x){\n",
    "\tr <- quantile(x, probs = c(0.10, 0.25, 0.5, 0.75, 0.90))\n",
    "\tnames(r) <- c(\"ymin\", \"lower\", \"middle\", \"upper\", \"ymax\")\n",
    "\tr\n",
    "}\n",
    "outliers <- function(x){\n",
    "\tsubset(x, x < quantile(x, probs = 0.1) | quantile(x, probs = 0.9) < x)\n",
    "}"
   ]
  },
  {
   "cell_type": "code",
   "execution_count": 3,
   "metadata": {},
   "outputs": [],
   "source": [
    "theme_legend_free = function(){\n",
    "\ttheme(axis.title.y = element_text(size = 15, \n",
    "\tmargin = margin(t=0, r=5, b=0, l=10)),\n",
    "\taxis.text.y = element_text(size = 15, face = 'bold'),\n",
    "\taxis.text.x = element_text(size = 15, face= 'bold'),\n",
    "\taxis.ticks.x = element_blank(),\n",
    "    plot.title = element_text(size=13),\n",
    "\tlegend.position = \"none\",\n",
    "\tplot.margin = unit(c(0.5,0.5,0,0.5), \"cm\"),\n",
    "\tpanel.grid = element_blank(),\n",
    "\tpanel.grid.major = element_blank(),\n",
    "\tpanel.grid.minor = element_blank())\n",
    "}\n",
    "\n",
    "italic.text <- element_text(face = \"italic\")\n",
    "theme_legend = function(){\n",
    "\ttheme(axis.title.y = element_text(size = 14,\n",
    "\tmargin = margin(t=0, r=5, b=0, l=10)),\n",
    "\taxis.text.y = element_text(size = 15, face = 'bold'),\n",
    "\taxis.text.x = element_text(size = 15, face= 'bold'),\n",
    "\taxis.title.x = element_text(size = 14),\n",
    "    axis.title = italic.text,\n",
    "\taxis.ticks.x = element_blank(),\n",
    "    plot.title = element_text(size=13),\n",
    "\tlegend.position = \"bottom\",\n",
    "\tplot.margin = unit(c(0.5,0.5,0,0.5), \"cm\"),\n",
    "\tpanel.grid = element_blank(),\n",
    "\tpanel.grid.major = element_blank(),\n",
    "\tpanel.grid.minor = element_blank())\n",
    "}"
   ]
  },
  {
   "cell_type": "markdown",
   "metadata": {},
   "source": [
    "# Liver tissue"
   ]
  },
  {
   "cell_type": "code",
   "execution_count": 4,
   "metadata": {},
   "outputs": [
    {
     "data": {
      "text/html": [
       "<table>\n",
       "<caption>A data.frame: 6 × 10</caption>\n",
       "<thead>\n",
       "\t<tr><th></th><th scope=col>X</th><th scope=col>treatment</th><th scope=col>pparg</th><th scope=col>mogat1</th><th scope=col>plin4</th><th scope=col>cidec</th><th scope=col>bw</th><th scope=col>lv_wt</th><th scope=col>lv_pct</th><th scope=col>lv_TAG</th></tr>\n",
       "\t<tr><th></th><th scope=col>&lt;int&gt;</th><th scope=col>&lt;fct&gt;</th><th scope=col>&lt;dbl&gt;</th><th scope=col>&lt;dbl&gt;</th><th scope=col>&lt;dbl&gt;</th><th scope=col>&lt;dbl&gt;</th><th scope=col>&lt;dbl&gt;</th><th scope=col>&lt;dbl&gt;</th><th scope=col>&lt;dbl&gt;</th><th scope=col>&lt;dbl&gt;</th></tr>\n",
       "</thead>\n",
       "<tbody>\n",
       "\t<tr><th scope=row>1</th><td>13</td><td>HFD</td><td> 0.02909908</td><td> 0.1099829</td><td> 0.13973055</td><td>-0.4210752</td><td>48.9</td><td>2.26</td><td>4.621677</td><td>500.76</td></tr>\n",
       "\t<tr><th scope=row>2</th><td>14</td><td>HFD</td><td> 0.10243241</td><td>-0.4333504</td><td> 0.08306388</td><td> 0.6055914</td><td>52.2</td><td>2.51</td><td>4.808429</td><td>480.48</td></tr>\n",
       "\t<tr><th scope=row>3</th><td>15</td><td>HFD</td><td> 0.29909908</td><td> 0.4733163</td><td> 0.52306388</td><td> 0.6055914</td><td>51.6</td><td>2.81</td><td>5.445736</td><td>633.36</td></tr>\n",
       "\t<tr><th scope=row>4</th><td>16</td><td>HFD</td><td>-0.47423426</td><td>-0.1766837</td><td>-0.73026945</td><td>-1.1544086</td><td>52.9</td><td>2.70</td><td>5.103970</td><td>535.08</td></tr>\n",
       "\t<tr><th scope=row>5</th><td>17</td><td>HFD</td><td>-0.31423426</td><td>-1.1933504</td><td>-0.44360278</td><td>-0.6777419</td><td>46.5</td><td>1.46</td><td>3.139785</td><td>402.87</td></tr>\n",
       "\t<tr><th scope=row>6</th><td>18</td><td>HFD</td><td> 0.32909908</td><td> 0.5499829</td><td> 0.52639722</td><td> 0.6522581</td><td>51.8</td><td>2.77</td><td>5.347490</td><td>563.94</td></tr>\n",
       "</tbody>\n",
       "</table>\n"
      ],
      "text/latex": [
       "A data.frame: 6 × 10\n",
       "\\begin{tabular}{r|llllllllll}\n",
       "  & X & treatment & pparg & mogat1 & plin4 & cidec & bw & lv\\_wt & lv\\_pct & lv\\_TAG\\\\\n",
       "  & <int> & <fct> & <dbl> & <dbl> & <dbl> & <dbl> & <dbl> & <dbl> & <dbl> & <dbl>\\\\\n",
       "\\hline\n",
       "\t1 & 13 & HFD &  0.02909908 &  0.1099829 &  0.13973055 & -0.4210752 & 48.9 & 2.26 & 4.621677 & 500.76\\\\\n",
       "\t2 & 14 & HFD &  0.10243241 & -0.4333504 &  0.08306388 &  0.6055914 & 52.2 & 2.51 & 4.808429 & 480.48\\\\\n",
       "\t3 & 15 & HFD &  0.29909908 &  0.4733163 &  0.52306388 &  0.6055914 & 51.6 & 2.81 & 5.445736 & 633.36\\\\\n",
       "\t4 & 16 & HFD & -0.47423426 & -0.1766837 & -0.73026945 & -1.1544086 & 52.9 & 2.70 & 5.103970 & 535.08\\\\\n",
       "\t5 & 17 & HFD & -0.31423426 & -1.1933504 & -0.44360278 & -0.6777419 & 46.5 & 1.46 & 3.139785 & 402.87\\\\\n",
       "\t6 & 18 & HFD &  0.32909908 &  0.5499829 &  0.52639722 &  0.6522581 & 51.8 & 2.77 & 5.347490 & 563.94\\\\\n",
       "\\end{tabular}\n"
      ],
      "text/markdown": [
       "\n",
       "A data.frame: 6 × 10\n",
       "\n",
       "| <!--/--> | X &lt;int&gt; | treatment &lt;fct&gt; | pparg &lt;dbl&gt; | mogat1 &lt;dbl&gt; | plin4 &lt;dbl&gt; | cidec &lt;dbl&gt; | bw &lt;dbl&gt; | lv_wt &lt;dbl&gt; | lv_pct &lt;dbl&gt; | lv_TAG &lt;dbl&gt; |\n",
       "|---|---|---|---|---|---|---|---|---|---|---|\n",
       "| 1 | 13 | HFD |  0.02909908 |  0.1099829 |  0.13973055 | -0.4210752 | 48.9 | 2.26 | 4.621677 | 500.76 |\n",
       "| 2 | 14 | HFD |  0.10243241 | -0.4333504 |  0.08306388 |  0.6055914 | 52.2 | 2.51 | 4.808429 | 480.48 |\n",
       "| 3 | 15 | HFD |  0.29909908 |  0.4733163 |  0.52306388 |  0.6055914 | 51.6 | 2.81 | 5.445736 | 633.36 |\n",
       "| 4 | 16 | HFD | -0.47423426 | -0.1766837 | -0.73026945 | -1.1544086 | 52.9 | 2.70 | 5.103970 | 535.08 |\n",
       "| 5 | 17 | HFD | -0.31423426 | -1.1933504 | -0.44360278 | -0.6777419 | 46.5 | 1.46 | 3.139785 | 402.87 |\n",
       "| 6 | 18 | HFD |  0.32909908 |  0.5499829 |  0.52639722 |  0.6522581 | 51.8 | 2.77 | 5.347490 | 563.94 |\n",
       "\n"
      ],
      "text/plain": [
       "  X  treatment pparg       mogat1     plin4       cidec      bw   lv_wt\n",
       "1 13 HFD        0.02909908  0.1099829  0.13973055 -0.4210752 48.9 2.26 \n",
       "2 14 HFD        0.10243241 -0.4333504  0.08306388  0.6055914 52.2 2.51 \n",
       "3 15 HFD        0.29909908  0.4733163  0.52306388  0.6055914 51.6 2.81 \n",
       "4 16 HFD       -0.47423426 -0.1766837 -0.73026945 -1.1544086 52.9 2.70 \n",
       "5 17 HFD       -0.31423426 -1.1933504 -0.44360278 -0.6777419 46.5 1.46 \n",
       "6 18 HFD        0.32909908  0.5499829  0.52639722  0.6522581 51.8 2.77 \n",
       "  lv_pct   lv_TAG\n",
       "1 4.621677 500.76\n",
       "2 4.808429 480.48\n",
       "3 5.445736 633.36\n",
       "4 5.103970 535.08\n",
       "5 3.139785 402.87\n",
       "6 5.347490 563.94"
      ]
     },
     "metadata": {},
     "output_type": "display_data"
    }
   ],
   "source": [
    "data_liver <- read.csv('liverTissue.csv')\n",
    "data_liver$treatment <- as.factor(data_liver$treatment)\n",
    "colors <- c(\"#0080ff\", \"darkgreen\")\n",
    "head(data_liver)"
   ]
  },
  {
   "cell_type": "code",
   "execution_count": 37,
   "metadata": {},
   "outputs": [],
   "source": [
    "# a t-test and a regression at the same time\n",
    "#model.matrix(~data_liver$treatment + data_liver$mogat1)"
   ]
  },
  {
   "cell_type": "code",
   "execution_count": 36,
   "metadata": {},
   "outputs": [
    {
     "data": {
      "text/plain": [
       "\n",
       "Call:\n",
       "lm(formula = lv_pct ~ treatment + mogat1, data = data_liver)\n",
       "\n",
       "Residuals:\n",
       "     Min       1Q   Median       3Q      Max \n",
       "-1.18931 -0.16769 -0.00571  0.26242  0.93424 \n",
       "\n",
       "Coefficients:\n",
       "                 Estimate Std. Error t value Pr(>|t|)    \n",
       "(Intercept)        5.0053     0.1566  31.961  < 2e-16 ***\n",
       "treatmentHFD+TXN  -0.5885     0.4017  -1.465  0.15841    \n",
       "mogat1             0.5667     0.1663   3.408  0.00279 ** \n",
       "---\n",
       "Signif. codes:  0 ‘***’ 0.001 ‘**’ 0.01 ‘*’ 0.05 ‘.’ 0.1 ‘ ’ 1\n",
       "\n",
       "Residual standard error: 0.5409 on 20 degrees of freedom\n",
       "Multiple R-squared:  0.7771,\tAdjusted R-squared:  0.7548 \n",
       "F-statistic: 34.86 on 2 and 20 DF,  p-value: 3.031e-07\n"
      ]
     },
     "metadata": {},
     "output_type": "display_data"
    }
   ],
   "source": [
    "model <- lm(lv_pct ~ treatment + mogat1, data = data_liver)\n",
    "summary(model)"
   ]
  },
  {
   "cell_type": "markdown",
   "metadata": {},
   "source": [
    "**Note:\n",
    "p value for Mogat1 expression is significant (0.00279), which means that the 2-parameter fit is significantly better than 1-parameter fit, which is only treatment.**"
   ]
  },
  {
   "cell_type": "code",
   "execution_count": 45,
   "metadata": {},
   "outputs": [
    {
     "data": {
      "text/plain": [
       "\n",
       "Call:\n",
       "lm(formula = lv_pct ~ mogat1, data = data_liver)\n",
       "\n",
       "Residuals:\n",
       "     Min       1Q   Median       3Q      Max \n",
       "-1.00469 -0.34075 -0.00623  0.34985  0.95465 \n",
       "\n",
       "Coefficients:\n",
       "            Estimate Std. Error t value Pr(>|t|)    \n",
       "(Intercept)  4.93125    0.15222  32.396  < 2e-16 ***\n",
       "mogat1       0.76816    0.09597   8.004 8.16e-08 ***\n",
       "---\n",
       "Signif. codes:  0 ‘***’ 0.001 ‘**’ 0.01 ‘*’ 0.05 ‘.’ 0.1 ‘ ’ 1\n",
       "\n",
       "Residual standard error: 0.5554 on 21 degrees of freedom\n",
       "Multiple R-squared:  0.7531,\tAdjusted R-squared:  0.7414 \n",
       "F-statistic: 64.07 on 1 and 21 DF,  p-value: 8.162e-08\n"
      ]
     },
     "metadata": {},
     "output_type": "display_data"
    }
   ],
   "source": [
    "model <- lm(lv_pct ~ mogat1, data = data_liver)\n",
    "summary(model)"
   ]
  },
  {
   "cell_type": "code",
   "execution_count": 46,
   "metadata": {},
   "outputs": [
    {
     "data": {
      "text/plain": [
       "\n",
       "Call:\n",
       "lm(formula = lv_pct ~ treatment, data = data_liver)\n",
       "\n",
       "Residuals:\n",
       "    Min      1Q  Median      3Q     Max \n",
       "-1.8238 -0.1963 -0.0836  0.3609  1.1932 \n",
       "\n",
       "Coefficients:\n",
       "                 Estimate Std. Error t value Pr(>|t|)    \n",
       "(Intercept)        4.9636     0.1916  25.910  < 2e-16 ***\n",
       "treatmentHFD+TXN  -1.7209     0.2770  -6.212 3.67e-06 ***\n",
       "---\n",
       "Signif. codes:  0 ‘***’ 0.001 ‘**’ 0.01 ‘*’ 0.05 ‘.’ 0.1 ‘ ’ 1\n",
       "\n",
       "Residual standard error: 0.6636 on 21 degrees of freedom\n",
       "Multiple R-squared:  0.6476,\tAdjusted R-squared:  0.6308 \n",
       "F-statistic: 38.59 on 1 and 21 DF,  p-value: 3.665e-06\n"
      ]
     },
     "metadata": {},
     "output_type": "display_data"
    }
   ],
   "source": [
    "model <- lm(lv_pct ~ treatment, data = data_liver)\n",
    "summary(model)"
   ]
  },
  {
   "cell_type": "code",
   "execution_count": 320,
   "metadata": {},
   "outputs": [],
   "source": [
    "pparg <- ggplot(data = data_liver, aes(x = treatment, y = pparg, fill = treatment)) +\n",
    "    geom_hline(yintercept = 0, lty = 5) +\n",
    "\tstat_summary(fun.data = pars, geom = \"boxplot\", position = \"dodge\", width=0.2) +\n",
    "\tstat_summary(fun = outliers, geom = \"point\") +\n",
    "\tscale_fill_manual(values = alpha(colors, .6), guide = FALSE) +\n",
    "    #scale_y_continuous(limits = c(-3, 3))+\n",
    "\txlab(\" \") + ylab(\"log2FoldChange\") +\n",
    "\tggtitle(\"Ppar\\u03B3\") +\n",
    "\ttheme_bw() +\n",
    "\ttheme_legend_free()\n",
    "\n",
    "label.df <- data.frame(treatment = c(\"HFD+TXN\"),\n",
    "                       pparg = c(-0.3))\n",
    "pparg <- pparg + geom_text(data = label.df, label = c(\"***\"), color='red', size = 12)"
   ]
  },
  {
   "cell_type": "code",
   "execution_count": 321,
   "metadata": {},
   "outputs": [],
   "source": [
    "cid <- ggplot(data = data_liver, aes(x = treatment, y = cidec, fill = treatment)) +\n",
    "    geom_hline(yintercept = 0, lty = 5) +\n",
    "\tstat_summary(fun.data = pars, geom = \"boxplot\", position = \"dodge\", width=0.2) +\n",
    "\tstat_summary(fun = outliers, geom = \"point\") +\n",
    "\tscale_fill_manual(values = alpha(colors, .6), guide = FALSE) +\n",
    "    #scale_y_continuous(limits = c(-3, 3))+\n",
    "\txlab(\" \") + ylab(\"log2FoldChange\") +\n",
    "\tggtitle(\"Cidec\") +\n",
    "\ttheme_bw() +\n",
    "\ttheme_legend_free()\n",
    "\n",
    "label.df <- data.frame(treatment = c(\"HFD+TXN\"),\n",
    "                       cidec = c(-2))\n",
    "cid <- cid + geom_text(data = label.df, label = c(\"***\"), color='red', size = 12)"
   ]
  },
  {
   "cell_type": "code",
   "execution_count": 322,
   "metadata": {},
   "outputs": [],
   "source": [
    "plin <- ggplot(data = data_liver, aes(x = treatment, y = plin4, fill = treatment)) +\n",
    "    geom_hline(yintercept = 0, lty = 5) +\n",
    "\tstat_summary(fun.data = pars, geom = \"boxplot\", position = \"dodge\", width=0.2) +\n",
    "\tstat_summary(fun = outliers, geom = \"point\") +\n",
    "\tscale_fill_manual(values = alpha(colors, .6), guide = FALSE) +\n",
    "    #scale_y_continuous(limits = c(-3, 3))+\n",
    "\txlab(\" \") + ylab(\"log2FoldChange\") +\n",
    "\tggtitle(\"Plin4\") +\n",
    "\ttheme_bw() +\n",
    "\ttheme_legend_free()\n",
    "\n",
    "label.df <- data.frame(treatment = c(\"HFD+TXN\"),\n",
    "                       plin4 = c(-0.8))\n",
    "plin <- plin + geom_text(data = label.df, label = c(\"***\"), color='red', size = 12)"
   ]
  },
  {
   "cell_type": "code",
   "execution_count": 323,
   "metadata": {},
   "outputs": [],
   "source": [
    "mog <- ggplot(data = data_liver, aes(x = treatment, y = mogat1, fill = treatment)) +\n",
    "    geom_hline(yintercept = 0, lty = 5) +\n",
    "\tstat_summary(fun.data = pars, geom = \"boxplot\", position = \"dodge\", width=0.2) +\n",
    "\tstat_summary(fun = outliers, geom = \"point\") +\n",
    "\tscale_fill_manual(values = alpha(colors, .6), guide = FALSE) +\n",
    "    #scale_y_continuous(limits = c(-3, 3))+\n",
    "\txlab(\" \") + ylab(\"log2FoldChange\") +\n",
    "\tggtitle('Mogat1') +\n",
    "\ttheme_bw() +\n",
    "\ttheme_legend_free()\n",
    "\n",
    "label.df <- data.frame(treatment = c(\"HFD+TXN\"),\n",
    "                       mogat1 = c(-0.4))\n",
    "mog <- mog + geom_text(data = label.df, label = c(\"***\"), color='red', size = 12)"
   ]
  },
  {
   "cell_type": "code",
   "execution_count": 199,
   "metadata": {},
   "outputs": [],
   "source": [
    "plot <- (pparg | cid) / (plin | mog)\n",
    "plot2 <- plot & theme(plot.title = element_text(size = 14, face='bold'))"
   ]
  },
  {
   "cell_type": "code",
   "execution_count": 200,
   "metadata": {},
   "outputs": [
    {
     "name": "stderr",
     "output_type": "stream",
     "text": [
      "Exported graph as liverPCR.pdf\n",
      "\n",
      "Exported graph as liverPCR.svg\n",
      "\n"
     ]
    }
   ],
   "source": [
    "graph2pdf(plot2, file = \"liverPCR.pdf\", width = 8, height = 8)\n",
    "graph2svg(plot2, file = \"liverPCR.svg\", width = 12, height = 8)"
   ]
  },
  {
   "cell_type": "code",
   "execution_count": 391,
   "metadata": {},
   "outputs": [],
   "source": [
    "scatter1 <- ggplot(data_liver, aes(x = pparg, y = cidec)) + \n",
    "    geom_rug(aes(color = treatment)) +\n",
    "    geom_point(aes(color = treatment, size = lv_pct), alpha=0.5) +\n",
    "    scale_size(range = c(1, 14), guide=guide_legend(title=\"Liver mass:BW (%)\")) +\n",
    "    stat_smooth(method = \"lm\", formula = y ~ x, col = \"black\", se = FALSE, linetype = \"dashed\", size = 0.5)+\n",
    "    stat_cor(label.x = -0.7, label.y = -4.85, r.digits = 2, p.digits = 2, color = 'red') +\n",
    "    #stat_regline_equation(label.x = -1.3, label.y = 0) +\n",
    "    scale_color_manual(name = \"Diet\", values = colors, guide = FALSE)+\n",
    "    labs(x = 'Ppar\\u03B3', y = 'Cidec') +\n",
    "\ttheme_bw() + theme_legend()"
   ]
  },
  {
   "cell_type": "code",
   "execution_count": 394,
   "metadata": {},
   "outputs": [],
   "source": [
    "scatter3 <- ggplot(data_liver, aes(x = pparg, y = plin4)) + \n",
    "    geom_rug(aes(color = treatment)) +\n",
    "    geom_point(aes(color = treatment, size = lv_pct), alpha=0.5) +\n",
    "    scale_size(range = c(1, 14), guide=guide_legend(title=\"Liver mass:BW (%)\")) +\n",
    "    stat_smooth(method = \"lm\", formula = y ~ x, col = \"black\", se = FALSE, linetype = \"dashed\", size = 0.5)+\n",
    "    stat_cor(label.x = -0.7, label.y = -2.8, r.digits = 2, p.digits = 2, color = 'red') +\n",
    "    scale_color_manual(name = \"Diet\", values = colors, guide = FALSE)+\n",
    "    labs(x = 'Ppar\\u03B3', y = 'Plin4') +\n",
    "\ttheme_bw() + theme_legend()"
   ]
  },
  {
   "cell_type": "code",
   "execution_count": 395,
   "metadata": {},
   "outputs": [],
   "source": [
    "scatter4 <- ggplot(data_liver, aes(x = pparg, y = mogat1)) + \n",
    "    geom_rug(aes(color = treatment)) +\n",
    "    geom_point(aes(color = treatment, size = lv_pct), alpha=0.5) +\n",
    "    scale_size(range = c(1, 14), guide=guide_legend(title=\"Liver mass:BW (%)\")) +\n",
    "    stat_smooth(method = \"lm\", formula = y ~ x, col = \"black\", se = FALSE, linetype = \"dashed\", size = 0.5)+\n",
    "    stat_cor(label.x = -0.7, label.y = -3.3, r.digits = 2, p.digits = 2, color = 'red') +\n",
    "    scale_color_manual(name = \"Diet\", values = colors, guide = FALSE)+\n",
    "    labs(x = 'Ppar\\u03B3', y = expression(italic('Mogat1'))) +\n",
    "\ttheme_bw() + theme_legend()"
   ]
  },
  {
   "cell_type": "code",
   "execution_count": 396,
   "metadata": {},
   "outputs": [],
   "source": [
    "scatter5 <- ggplot(data_liver, aes(x = mogat1, y = cidec)) + \n",
    "    geom_rug(aes(color = treatment)) +\n",
    "    geom_point(aes(color = treatment, size = lv_pct), alpha=0.5) +\n",
    "    scale_size(range = c(1, 14), guide=guide_legend(title=\"Liver mass:BW (%)\")) +\n",
    "    stat_smooth(method = \"lm\", formula = y ~ x, col = \"black\", se = FALSE, linetype = \"dashed\", size = 0.5)+\n",
    "    stat_cor(label.x = -1.7, label.y = -4.5, r.digits = 2, p.digits = 2, color = 'red') +\n",
    "    scale_color_manual(name = \"Diet\", values = colors, guide = FALSE)+\n",
    "    labs(x = 'Mogat1', y = 'Cidec') +\n",
    "\ttheme_bw() + theme_legend()"
   ]
  },
  {
   "cell_type": "code",
   "execution_count": 249,
   "metadata": {},
   "outputs": [],
   "source": [
    "plot <- (scatter1 | scatter3) / (scatter4 | scatter5)\n",
    "#plot2 <- plot & theme(plot.title = element_text(size = 14, face='bold'))\n",
    "plot2 <- plot + plot_layout(guides = \"collect\")"
   ]
  },
  {
   "cell_type": "code",
   "execution_count": 250,
   "metadata": {},
   "outputs": [
    {
     "name": "stderr",
     "output_type": "stream",
     "text": [
      "Exported graph as liverscatter.pdf\n",
      "\n",
      "Exported graph as liverscatter.svg\n",
      "\n"
     ]
    }
   ],
   "source": [
    "graph2pdf(plot2, file = \"liverscatter.pdf\", width = 12, height = 8)\n",
    "graph2svg(plot2, file = \"liverscatter.svg\", width = 12, height = 8)"
   ]
  },
  {
   "cell_type": "code",
   "execution_count": 397,
   "metadata": {},
   "outputs": [],
   "source": [
    "plotA <- (pparg | cid | plin | mog)& theme(legend.position = 'none')\n",
    "plotB <- (scatter5 | scatter1 | scatter3 | scatter4)& theme(legend.position = 'bottom')\n",
    "pcr <- (plotA / plotB) + plot_layout(guides = \"collect\")& theme(legend.position = 'bottom')"
   ]
  },
  {
   "cell_type": "code",
   "execution_count": 398,
   "metadata": {},
   "outputs": [
    {
     "name": "stderr",
     "output_type": "stream",
     "text": [
      "Exported graph as liverscatterPCR.svg\n",
      "\n",
      "Exported graph as liverscatterPCR.pdf\n",
      "\n"
     ]
    }
   ],
   "source": [
    "graph2svg(pcr, file = \"liverscatterPCR.svg\", width = 16, height = 10)\n",
    "graph2pdf(pcr, file = \"liverscatterPCR.pdf\", width = 16, height = 10)"
   ]
  },
  {
   "cell_type": "code",
   "execution_count": 402,
   "metadata": {},
   "outputs": [],
   "source": [
    "scatter6 <- ggplot(data_liver, aes(x = pparg, y = cidec)) + \n",
    "    geom_rug(aes(color = treatment)) +\n",
    "    geom_point(aes(color = treatment, size = lv_TAG), alpha=0.5) +\n",
    "    scale_size(range = c(1, 14), guide=guide_legend(title=\"Liver TAG\")) +\n",
    "    stat_smooth(method = \"lm\", formula = y ~ x, col = \"black\", se = FALSE, linetype = \"dashed\", size = 0.5)+\n",
    "    stat_cor(label.x = -0.7, label.y = -4.85, r.digits = 2, p.digits = 2, color = 'red') +\n",
    "    #stat_regline_equation(label.x = -1.3, label.y = 0) +\n",
    "    scale_color_manual(name = \"Diet\", values = colors, guide = FALSE)+\n",
    "    labs(x = 'Ppar\\u03B3', y = 'Cidec') +\n",
    "\ttheme_bw() + theme_legend()"
   ]
  },
  {
   "cell_type": "code",
   "execution_count": 403,
   "metadata": {},
   "outputs": [],
   "source": [
    "scatter7 <- ggplot(data_liver, aes(x = pparg, y = plin4)) + \n",
    "    geom_rug(aes(color = treatment)) +\n",
    "    geom_point(aes(color = treatment, size = lv_TAG), alpha=0.5) +\n",
    "    scale_size(range = c(1, 14), guide=guide_legend(title=\"Liver TAG\")) +\n",
    "    stat_smooth(method = \"lm\", formula = y ~ x, col = \"black\", se = FALSE, linetype = \"dashed\", size = 0.5)+\n",
    "    stat_cor(label.x = -0.7, label.y = -2.8, r.digits = 2, p.digits = 2, color = 'red') +\n",
    "    scale_color_manual(name = \"Diet\", values = colors, guide = FALSE)+\n",
    "    labs(x = 'Ppar\\u03B3', y = 'Plin4') +\n",
    "\ttheme_bw() + theme_legend()"
   ]
  },
  {
   "cell_type": "code",
   "execution_count": 404,
   "metadata": {},
   "outputs": [],
   "source": [
    "scatter8 <- ggplot(data_liver, aes(x = pparg, y = mogat1)) + \n",
    "    geom_rug(aes(color = treatment)) +\n",
    "    geom_point(aes(color = treatment, size = lv_TAG), alpha=0.5) +\n",
    "    scale_size(range = c(1, 14), guide=guide_legend(title=\"Liver TAG\")) +\n",
    "    stat_smooth(method = \"lm\", formula = y ~ x, col = \"black\", se = FALSE, linetype = \"dashed\", size = 0.5)+\n",
    "    stat_cor(label.x = -0.7, label.y = -3.3, r.digits = 2, p.digits = 2, color = 'red') +\n",
    "    scale_color_manual(name = \"Diet\", values = colors, guide = FALSE)+\n",
    "    labs(x = 'Ppar\\u03B3', y = expression(italic('Mogat1'))) +\n",
    "\ttheme_bw() + theme_legend()"
   ]
  },
  {
   "cell_type": "code",
   "execution_count": 405,
   "metadata": {},
   "outputs": [],
   "source": [
    "scatter9 <- ggplot(data_liver, aes(x = mogat1, y = cidec)) + \n",
    "    geom_rug(aes(color = treatment)) +\n",
    "    geom_point(aes(color = treatment, size = lv_TAG), alpha=0.5) +\n",
    "    scale_size(range = c(1, 14), guide=guide_legend(title=\"Liver TAG\")) +\n",
    "    stat_smooth(method = \"lm\", formula = y ~ x, col = \"black\", se = FALSE, linetype = \"dashed\", size = 0.5)+\n",
    "    stat_cor(label.x = -1.7, label.y = -4.5, r.digits = 2, p.digits = 2, color = 'red') +\n",
    "    scale_color_manual(name = \"Diet\", values = colors, guide = FALSE)+\n",
    "    labs(x = 'Mogat1', y = 'Cidec') +\n",
    "\ttheme_bw() + theme_legend()"
   ]
  },
  {
   "cell_type": "code",
   "execution_count": 408,
   "metadata": {},
   "outputs": [
    {
     "name": "stderr",
     "output_type": "stream",
     "text": [
      "Exported graph as liverscatterPCR2.pdf\n",
      "\n"
     ]
    }
   ],
   "source": [
    "plotC <- (scatter6 | scatter7 | scatter8 | scatter9)& theme(legend.position = 'bottom')\n",
    "pcr2 <- (plotA / plotB / plotC) + plot_layout(guides = \"collect\")& theme(legend.position = 'bottom')\n",
    "graph2pdf(pcr2, file = \"liverscatterPCR2.pdf\", width = 16, height = 13)"
   ]
  },
  {
   "cell_type": "markdown",
   "metadata": {},
   "source": [
    "# Cell culture"
   ]
  },
  {
   "cell_type": "code",
   "execution_count": 4,
   "metadata": {},
   "outputs": [
    {
     "data": {
      "text/html": [
       "<table>\n",
       "<caption>A data.frame: 6 × 12</caption>\n",
       "<thead>\n",
       "\t<tr><th></th><th scope=col>X</th><th scope=col>treatment</th><th scope=col>pparg</th><th scope=col>pgc1a</th><th scope=col>fabp4</th><th scope=col>cd36</th><th scope=col>scd1</th><th scope=col>srebp1c</th><th scope=col>lpl</th><th scope=col>plin4</th><th scope=col>cidec</th><th scope=col>vars</th></tr>\n",
       "\t<tr><th></th><th scope=col>&lt;int&gt;</th><th scope=col>&lt;fct&gt;</th><th scope=col>&lt;dbl&gt;</th><th scope=col>&lt;dbl&gt;</th><th scope=col>&lt;dbl&gt;</th><th scope=col>&lt;dbl&gt;</th><th scope=col>&lt;dbl&gt;</th><th scope=col>&lt;dbl&gt;</th><th scope=col>&lt;dbl&gt;</th><th scope=col>&lt;dbl&gt;</th><th scope=col>&lt;dbl&gt;</th><th scope=col>&lt;fct&gt;</th></tr>\n",
       "</thead>\n",
       "<tbody>\n",
       "\t<tr><th scope=row>1</th><td>1</td><td>DMSO</td><td> 0.3606192</td><td> 0.22910166</td><td> 0.5023825</td><td> 0.6679965</td><td> 0.4224275</td><td> 0.3639615</td><td> 0.6792995</td><td>-0.24551692</td><td>-0.2302880</td><td>DMSO</td></tr>\n",
       "\t<tr><th scope=row>2</th><td>2</td><td>DMSO</td><td>-0.2393808</td><td> 0.02576833</td><td>-0.0176175</td><td>-0.1386702</td><td>-0.1509058</td><td>-0.1393718</td><td>-0.5807005</td><td> 0.05781642</td><td> 0.6363786</td><td>DMSO</td></tr>\n",
       "\t<tr><th scope=row>3</th><td>3</td><td>DMSO</td><td>-0.2027141</td><td>-0.30423167</td><td>-0.7476175</td><td>-0.9920035</td><td>-0.3975725</td><td>-0.3127051</td><td>-0.4540338</td><td> 0.15781642</td><td>-0.7536214</td><td>DMSO</td></tr>\n",
       "\t<tr><th scope=row>4</th><td>4</td><td>Rosi</td><td> 0.3439525</td><td> 0.80576833</td><td> 2.5190492</td><td> 3.2446631</td><td> 0.5057608</td><td> 0.3006282</td><td> 1.0876329</td><td> 1.11448308</td><td> 2.6263786</td><td>Rosi</td></tr>\n",
       "\t<tr><th scope=row>5</th><td>5</td><td>Rosi</td><td>-0.2893808</td><td> 0.37243500</td><td> 1.6323825</td><td> 2.1913298</td><td>-0.2242392</td><td>-0.2060385</td><td>-0.3440338</td><td> 0.49781642</td><td> 2.3397120</td><td>Rosi</td></tr>\n",
       "\t<tr><th scope=row>6</th><td>6</td><td>Rosi</td><td>-0.4427141</td><td> 0.13910166</td><td> 1.6757158</td><td> 1.9396631</td><td>-0.5042392</td><td>-0.4593718</td><td>-0.3940338</td><td> 0.67114975</td><td> 1.7463786</td><td>Rosi</td></tr>\n",
       "</tbody>\n",
       "</table>\n"
      ],
      "text/latex": [
       "A data.frame: 6 × 12\n",
       "\\begin{tabular}{r|llllllllllll}\n",
       "  & X & treatment & pparg & pgc1a & fabp4 & cd36 & scd1 & srebp1c & lpl & plin4 & cidec & vars\\\\\n",
       "  & <int> & <fct> & <dbl> & <dbl> & <dbl> & <dbl> & <dbl> & <dbl> & <dbl> & <dbl> & <dbl> & <fct>\\\\\n",
       "\\hline\n",
       "\t1 & 1 & DMSO &  0.3606192 &  0.22910166 &  0.5023825 &  0.6679965 &  0.4224275 &  0.3639615 &  0.6792995 & -0.24551692 & -0.2302880 & DMSO\\\\\n",
       "\t2 & 2 & DMSO & -0.2393808 &  0.02576833 & -0.0176175 & -0.1386702 & -0.1509058 & -0.1393718 & -0.5807005 &  0.05781642 &  0.6363786 & DMSO\\\\\n",
       "\t3 & 3 & DMSO & -0.2027141 & -0.30423167 & -0.7476175 & -0.9920035 & -0.3975725 & -0.3127051 & -0.4540338 &  0.15781642 & -0.7536214 & DMSO\\\\\n",
       "\t4 & 4 & Rosi &  0.3439525 &  0.80576833 &  2.5190492 &  3.2446631 &  0.5057608 &  0.3006282 &  1.0876329 &  1.11448308 &  2.6263786 & Rosi\\\\\n",
       "\t5 & 5 & Rosi & -0.2893808 &  0.37243500 &  1.6323825 &  2.1913298 & -0.2242392 & -0.2060385 & -0.3440338 &  0.49781642 &  2.3397120 & Rosi\\\\\n",
       "\t6 & 6 & Rosi & -0.4427141 &  0.13910166 &  1.6757158 &  1.9396631 & -0.5042392 & -0.4593718 & -0.3940338 &  0.67114975 &  1.7463786 & Rosi\\\\\n",
       "\\end{tabular}\n"
      ],
      "text/markdown": [
       "\n",
       "A data.frame: 6 × 12\n",
       "\n",
       "| <!--/--> | X &lt;int&gt; | treatment &lt;fct&gt; | pparg &lt;dbl&gt; | pgc1a &lt;dbl&gt; | fabp4 &lt;dbl&gt; | cd36 &lt;dbl&gt; | scd1 &lt;dbl&gt; | srebp1c &lt;dbl&gt; | lpl &lt;dbl&gt; | plin4 &lt;dbl&gt; | cidec &lt;dbl&gt; | vars &lt;fct&gt; |\n",
       "|---|---|---|---|---|---|---|---|---|---|---|---|---|\n",
       "| 1 | 1 | DMSO |  0.3606192 |  0.22910166 |  0.5023825 |  0.6679965 |  0.4224275 |  0.3639615 |  0.6792995 | -0.24551692 | -0.2302880 | DMSO |\n",
       "| 2 | 2 | DMSO | -0.2393808 |  0.02576833 | -0.0176175 | -0.1386702 | -0.1509058 | -0.1393718 | -0.5807005 |  0.05781642 |  0.6363786 | DMSO |\n",
       "| 3 | 3 | DMSO | -0.2027141 | -0.30423167 | -0.7476175 | -0.9920035 | -0.3975725 | -0.3127051 | -0.4540338 |  0.15781642 | -0.7536214 | DMSO |\n",
       "| 4 | 4 | Rosi |  0.3439525 |  0.80576833 |  2.5190492 |  3.2446631 |  0.5057608 |  0.3006282 |  1.0876329 |  1.11448308 |  2.6263786 | Rosi |\n",
       "| 5 | 5 | Rosi | -0.2893808 |  0.37243500 |  1.6323825 |  2.1913298 | -0.2242392 | -0.2060385 | -0.3440338 |  0.49781642 |  2.3397120 | Rosi |\n",
       "| 6 | 6 | Rosi | -0.4427141 |  0.13910166 |  1.6757158 |  1.9396631 | -0.5042392 | -0.4593718 | -0.3940338 |  0.67114975 |  1.7463786 | Rosi |\n",
       "\n"
      ],
      "text/plain": [
       "  X treatment pparg      pgc1a       fabp4      cd36       scd1      \n",
       "1 1 DMSO       0.3606192  0.22910166  0.5023825  0.6679965  0.4224275\n",
       "2 2 DMSO      -0.2393808  0.02576833 -0.0176175 -0.1386702 -0.1509058\n",
       "3 3 DMSO      -0.2027141 -0.30423167 -0.7476175 -0.9920035 -0.3975725\n",
       "4 4 Rosi       0.3439525  0.80576833  2.5190492  3.2446631  0.5057608\n",
       "5 5 Rosi      -0.2893808  0.37243500  1.6323825  2.1913298 -0.2242392\n",
       "6 6 Rosi      -0.4427141  0.13910166  1.6757158  1.9396631 -0.5042392\n",
       "  srebp1c    lpl        plin4       cidec      vars\n",
       "1  0.3639615  0.6792995 -0.24551692 -0.2302880 DMSO\n",
       "2 -0.1393718 -0.5807005  0.05781642  0.6363786 DMSO\n",
       "3 -0.3127051 -0.4540338  0.15781642 -0.7536214 DMSO\n",
       "4  0.3006282  1.0876329  1.11448308  2.6263786 Rosi\n",
       "5 -0.2060385 -0.3440338  0.49781642  2.3397120 Rosi\n",
       "6 -0.4593718 -0.3940338  0.67114975  1.7463786 Rosi"
      ]
     },
     "metadata": {},
     "output_type": "display_data"
    },
    {
     "data": {
      "text/html": [
       "<table>\n",
       "<caption>A data.frame: 6 × 12</caption>\n",
       "<thead>\n",
       "\t<tr><th></th><th scope=col>X</th><th scope=col>treatment</th><th scope=col>pparg</th><th scope=col>pgc1a</th><th scope=col>fabp4</th><th scope=col>cd36</th><th scope=col>scd1</th><th scope=col>srebp1c</th><th scope=col>lpl</th><th scope=col>plin4</th><th scope=col>cidec</th><th scope=col>vars</th></tr>\n",
       "\t<tr><th></th><th scope=col>&lt;int&gt;</th><th scope=col>&lt;fct&gt;</th><th scope=col>&lt;dbl&gt;</th><th scope=col>&lt;dbl&gt;</th><th scope=col>&lt;dbl&gt;</th><th scope=col>&lt;dbl&gt;</th><th scope=col>&lt;dbl&gt;</th><th scope=col>&lt;dbl&gt;</th><th scope=col>&lt;dbl&gt;</th><th scope=col>&lt;dbl&gt;</th><th scope=col>&lt;dbl&gt;</th><th scope=col>&lt;fct&gt;</th></tr>\n",
       "</thead>\n",
       "<tbody>\n",
       "\t<tr><th scope=row>1</th><td>1</td><td>Rosi   </td><td> 0.4315676</td><td> 0.33976545</td><td> 0.51579885</td><td> 0.6691933</td><td> 0.51320438</td><td> 0.3868813</td><td> 0.7952105</td><td> 0.32939562</td><td> 0.34424432</td><td>Rosi   </td></tr>\n",
       "\t<tr><th scope=row>2</th><td>2</td><td>Rosi   </td><td>-0.2017657</td><td>-0.09356789</td><td>-0.37086782</td><td>-0.3841400</td><td>-0.21346228</td><td>-0.1197853</td><td>-0.6364562</td><td>-0.28727105</td><td> 0.05757765</td><td>Rosi   </td></tr>\n",
       "\t<tr><th scope=row>3</th><td>3</td><td>Rosi   </td><td>-0.3550990</td><td>-0.32690122</td><td>-0.32753448</td><td>-0.6358067</td><td>-0.49346228</td><td>-0.3731187</td><td>-0.6864562</td><td>-0.11393771</td><td>-0.53575568</td><td>Rosi   </td></tr>\n",
       "\t<tr><th scope=row>4</th><td>4</td><td>Rosi+GW</td><td> 0.3415676</td><td> 0.18643211</td><td> 0.02246552</td><td> 0.2058600</td><td> 0.51653772</td><td> 0.4735480</td><td> 0.7185438</td><td>-0.44727104</td><td>-0.97908902</td><td>Rosi+GW</td></tr>\n",
       "\t<tr><th scope=row>5</th><td>5</td><td>Rosi+GW</td><td>-0.1817657</td><td> 0.04309878</td><td>-0.70420115</td><td>-0.4608067</td><td>-0.06346228</td><td> 0.0735480</td><td>-0.3731229</td><td>-0.02060438</td><td>-0.40575568</td><td>Rosi+GW</td></tr>\n",
       "\t<tr><th scope=row>6</th><td>6</td><td>Rosi+GW</td><td>-0.3217657</td><td>-0.30690122</td><td>-0.59086782</td><td>-0.7041400</td><td>-0.40012895</td><td>-0.4164520</td><td>-0.6297895</td><td>-0.37393771</td><td>-0.36242235</td><td>Rosi+GW</td></tr>\n",
       "</tbody>\n",
       "</table>\n"
      ],
      "text/latex": [
       "A data.frame: 6 × 12\n",
       "\\begin{tabular}{r|llllllllllll}\n",
       "  & X & treatment & pparg & pgc1a & fabp4 & cd36 & scd1 & srebp1c & lpl & plin4 & cidec & vars\\\\\n",
       "  & <int> & <fct> & <dbl> & <dbl> & <dbl> & <dbl> & <dbl> & <dbl> & <dbl> & <dbl> & <dbl> & <fct>\\\\\n",
       "\\hline\n",
       "\t1 & 1 & Rosi    &  0.4315676 &  0.33976545 &  0.51579885 &  0.6691933 &  0.51320438 &  0.3868813 &  0.7952105 &  0.32939562 &  0.34424432 & Rosi   \\\\\n",
       "\t2 & 2 & Rosi    & -0.2017657 & -0.09356789 & -0.37086782 & -0.3841400 & -0.21346228 & -0.1197853 & -0.6364562 & -0.28727105 &  0.05757765 & Rosi   \\\\\n",
       "\t3 & 3 & Rosi    & -0.3550990 & -0.32690122 & -0.32753448 & -0.6358067 & -0.49346228 & -0.3731187 & -0.6864562 & -0.11393771 & -0.53575568 & Rosi   \\\\\n",
       "\t4 & 4 & Rosi+GW &  0.3415676 &  0.18643211 &  0.02246552 &  0.2058600 &  0.51653772 &  0.4735480 &  0.7185438 & -0.44727104 & -0.97908902 & Rosi+GW\\\\\n",
       "\t5 & 5 & Rosi+GW & -0.1817657 &  0.04309878 & -0.70420115 & -0.4608067 & -0.06346228 &  0.0735480 & -0.3731229 & -0.02060438 & -0.40575568 & Rosi+GW\\\\\n",
       "\t6 & 6 & Rosi+GW & -0.3217657 & -0.30690122 & -0.59086782 & -0.7041400 & -0.40012895 & -0.4164520 & -0.6297895 & -0.37393771 & -0.36242235 & Rosi+GW\\\\\n",
       "\\end{tabular}\n"
      ],
      "text/markdown": [
       "\n",
       "A data.frame: 6 × 12\n",
       "\n",
       "| <!--/--> | X &lt;int&gt; | treatment &lt;fct&gt; | pparg &lt;dbl&gt; | pgc1a &lt;dbl&gt; | fabp4 &lt;dbl&gt; | cd36 &lt;dbl&gt; | scd1 &lt;dbl&gt; | srebp1c &lt;dbl&gt; | lpl &lt;dbl&gt; | plin4 &lt;dbl&gt; | cidec &lt;dbl&gt; | vars &lt;fct&gt; |\n",
       "|---|---|---|---|---|---|---|---|---|---|---|---|---|\n",
       "| 1 | 1 | Rosi    |  0.4315676 |  0.33976545 |  0.51579885 |  0.6691933 |  0.51320438 |  0.3868813 |  0.7952105 |  0.32939562 |  0.34424432 | Rosi    |\n",
       "| 2 | 2 | Rosi    | -0.2017657 | -0.09356789 | -0.37086782 | -0.3841400 | -0.21346228 | -0.1197853 | -0.6364562 | -0.28727105 |  0.05757765 | Rosi    |\n",
       "| 3 | 3 | Rosi    | -0.3550990 | -0.32690122 | -0.32753448 | -0.6358067 | -0.49346228 | -0.3731187 | -0.6864562 | -0.11393771 | -0.53575568 | Rosi    |\n",
       "| 4 | 4 | Rosi+GW |  0.3415676 |  0.18643211 |  0.02246552 |  0.2058600 |  0.51653772 |  0.4735480 |  0.7185438 | -0.44727104 | -0.97908902 | Rosi+GW |\n",
       "| 5 | 5 | Rosi+GW | -0.1817657 |  0.04309878 | -0.70420115 | -0.4608067 | -0.06346228 |  0.0735480 | -0.3731229 | -0.02060438 | -0.40575568 | Rosi+GW |\n",
       "| 6 | 6 | Rosi+GW | -0.3217657 | -0.30690122 | -0.59086782 | -0.7041400 | -0.40012895 | -0.4164520 | -0.6297895 | -0.37393771 | -0.36242235 | Rosi+GW |\n",
       "\n"
      ],
      "text/plain": [
       "  X treatment pparg      pgc1a       fabp4       cd36       scd1       \n",
       "1 1 Rosi       0.4315676  0.33976545  0.51579885  0.6691933  0.51320438\n",
       "2 2 Rosi      -0.2017657 -0.09356789 -0.37086782 -0.3841400 -0.21346228\n",
       "3 3 Rosi      -0.3550990 -0.32690122 -0.32753448 -0.6358067 -0.49346228\n",
       "4 4 Rosi+GW    0.3415676  0.18643211  0.02246552  0.2058600  0.51653772\n",
       "5 5 Rosi+GW   -0.1817657  0.04309878 -0.70420115 -0.4608067 -0.06346228\n",
       "6 6 Rosi+GW   -0.3217657 -0.30690122 -0.59086782 -0.7041400 -0.40012895\n",
       "  srebp1c    lpl        plin4       cidec       vars   \n",
       "1  0.3868813  0.7952105  0.32939562  0.34424432 Rosi   \n",
       "2 -0.1197853 -0.6364562 -0.28727105  0.05757765 Rosi   \n",
       "3 -0.3731187 -0.6864562 -0.11393771 -0.53575568 Rosi   \n",
       "4  0.4735480  0.7185438 -0.44727104 -0.97908902 Rosi+GW\n",
       "5  0.0735480 -0.3731229 -0.02060438 -0.40575568 Rosi+GW\n",
       "6 -0.4164520 -0.6297895 -0.37393771 -0.36242235 Rosi+GW"
      ]
     },
     "metadata": {},
     "output_type": "display_data"
    }
   ],
   "source": [
    "data_dmso <- read.csv('24h-dmso.csv')\n",
    "data_dmso$treatment <- as.factor(data_dmso$treatment)\n",
    "data_dmso$vars <- factor(data_dmso$treatment, levels = c(\"DMSO\", \"Rosi\", \"GW\", \"XN\", \"TXN\"))\n",
    "colors <- c(\"grey\", \"red\", \"blue\", \"gold\", \"darkgreen\")\n",
    "head(data_dmso)\n",
    "\n",
    "data_r <- read.csv('24h-rosi.csv')\n",
    "data_r$treatment <- as.factor(data_r$treatment)\n",
    "data_r$vars <- factor(data_r$treatment, levels = c(\"Rosi\", \"Rosi+GW\", \"Rosi+XN\", \"Rosi+TXN\"))\n",
    "colorsR <- c(\"red\", \"blue\", \"gold\", \"darkgreen\")\n",
    "head(data_r)"
   ]
  },
  {
   "cell_type": "code",
   "execution_count": 5,
   "metadata": {},
   "outputs": [
    {
     "data": {
      "text/html": [
       "<table>\n",
       "<caption>A data.frame: 6 × 6</caption>\n",
       "<thead>\n",
       "\t<tr><th></th><th scope=col>X</th><th scope=col>treatment</th><th scope=col>cd36</th><th scope=col>plin4</th><th scope=col>cidec</th><th scope=col>vars</th></tr>\n",
       "\t<tr><th></th><th scope=col>&lt;int&gt;</th><th scope=col>&lt;fct&gt;</th><th scope=col>&lt;dbl&gt;</th><th scope=col>&lt;dbl&gt;</th><th scope=col>&lt;dbl&gt;</th><th scope=col>&lt;fct&gt;</th></tr>\n",
       "</thead>\n",
       "<tbody>\n",
       "\t<tr><th scope=row>1</th><td>1</td><td>DMSO</td><td> 0.21144292</td><td> 0.2669615</td><td> 0.2307750</td><td>DMSO</td></tr>\n",
       "\t<tr><th scope=row>2</th><td>2</td><td>DMSO</td><td>-0.05189041</td><td>-0.1697051</td><td>-0.1292250</td><td>DMSO</td></tr>\n",
       "\t<tr><th scope=row>3</th><td>3</td><td>DMSO</td><td>-0.18855708</td><td>-0.1397051</td><td>-0.1325583</td><td>DMSO</td></tr>\n",
       "\t<tr><th scope=row>4</th><td>4</td><td>Rosi</td><td> 4.46144292</td><td> 2.4736282</td><td> 4.5674417</td><td>Rosi</td></tr>\n",
       "\t<tr><th scope=row>5</th><td>5</td><td>Rosi</td><td> 4.23144292</td><td> 2.4169615</td><td> 4.3407750</td><td>Rosi</td></tr>\n",
       "\t<tr><th scope=row>6</th><td>6</td><td>Rosi</td><td> 4.25144292</td><td> 2.4336282</td><td> 4.3141083</td><td>Rosi</td></tr>\n",
       "</tbody>\n",
       "</table>\n"
      ],
      "text/latex": [
       "A data.frame: 6 × 6\n",
       "\\begin{tabular}{r|llllll}\n",
       "  & X & treatment & cd36 & plin4 & cidec & vars\\\\\n",
       "  & <int> & <fct> & <dbl> & <dbl> & <dbl> & <fct>\\\\\n",
       "\\hline\n",
       "\t1 & 1 & DMSO &  0.21144292 &  0.2669615 &  0.2307750 & DMSO\\\\\n",
       "\t2 & 2 & DMSO & -0.05189041 & -0.1697051 & -0.1292250 & DMSO\\\\\n",
       "\t3 & 3 & DMSO & -0.18855708 & -0.1397051 & -0.1325583 & DMSO\\\\\n",
       "\t4 & 4 & Rosi &  4.46144292 &  2.4736282 &  4.5674417 & Rosi\\\\\n",
       "\t5 & 5 & Rosi &  4.23144292 &  2.4169615 &  4.3407750 & Rosi\\\\\n",
       "\t6 & 6 & Rosi &  4.25144292 &  2.4336282 &  4.3141083 & Rosi\\\\\n",
       "\\end{tabular}\n"
      ],
      "text/markdown": [
       "\n",
       "A data.frame: 6 × 6\n",
       "\n",
       "| <!--/--> | X &lt;int&gt; | treatment &lt;fct&gt; | cd36 &lt;dbl&gt; | plin4 &lt;dbl&gt; | cidec &lt;dbl&gt; | vars &lt;fct&gt; |\n",
       "|---|---|---|---|---|---|---|\n",
       "| 1 | 1 | DMSO |  0.21144292 |  0.2669615 |  0.2307750 | DMSO |\n",
       "| 2 | 2 | DMSO | -0.05189041 | -0.1697051 | -0.1292250 | DMSO |\n",
       "| 3 | 3 | DMSO | -0.18855708 | -0.1397051 | -0.1325583 | DMSO |\n",
       "| 4 | 4 | Rosi |  4.46144292 |  2.4736282 |  4.5674417 | Rosi |\n",
       "| 5 | 5 | Rosi |  4.23144292 |  2.4169615 |  4.3407750 | Rosi |\n",
       "| 6 | 6 | Rosi |  4.25144292 |  2.4336282 |  4.3141083 | Rosi |\n",
       "\n"
      ],
      "text/plain": [
       "  X treatment cd36        plin4      cidec      vars\n",
       "1 1 DMSO       0.21144292  0.2669615  0.2307750 DMSO\n",
       "2 2 DMSO      -0.05189041 -0.1697051 -0.1292250 DMSO\n",
       "3 3 DMSO      -0.18855708 -0.1397051 -0.1325583 DMSO\n",
       "4 4 Rosi       4.46144292  2.4736282  4.5674417 Rosi\n",
       "5 5 Rosi       4.23144292  2.4169615  4.3407750 Rosi\n",
       "6 6 Rosi       4.25144292  2.4336282  4.3141083 Rosi"
      ]
     },
     "metadata": {},
     "output_type": "display_data"
    },
    {
     "data": {
      "text/html": [
       "<table>\n",
       "<caption>A data.frame: 6 × 6</caption>\n",
       "<thead>\n",
       "\t<tr><th></th><th scope=col>X</th><th scope=col>treatment</th><th scope=col>cd36</th><th scope=col>plin4</th><th scope=col>cidec</th><th scope=col>vars</th></tr>\n",
       "\t<tr><th></th><th scope=col>&lt;int&gt;</th><th scope=col>&lt;fct&gt;</th><th scope=col>&lt;dbl&gt;</th><th scope=col>&lt;dbl&gt;</th><th scope=col>&lt;dbl&gt;</th><th scope=col>&lt;fct&gt;</th></tr>\n",
       "</thead>\n",
       "<tbody>\n",
       "\t<tr><th scope=row>1</th><td>1</td><td>Rosi   </td><td> 0.14285654</td><td> 0.032025775</td><td> 0.15544672</td><td>Rosi   </td></tr>\n",
       "\t<tr><th scope=row>2</th><td>2</td><td>Rosi   </td><td>-0.08714346</td><td>-0.024640892</td><td>-0.07121995</td><td>Rosi   </td></tr>\n",
       "\t<tr><th scope=row>3</th><td>3</td><td>Rosi   </td><td>-0.06714346</td><td>-0.007974225</td><td>-0.09788661</td><td>Rosi   </td></tr>\n",
       "\t<tr><th scope=row>4</th><td>4</td><td>Rosi+GW</td><td> 0.02285654</td><td> 0.112025775</td><td> 0.03544672</td><td>Rosi+GW</td></tr>\n",
       "\t<tr><th scope=row>5</th><td>5</td><td>Rosi+GW</td><td>-0.21714346</td><td>-0.091307559</td><td>-0.06455328</td><td>Rosi+GW</td></tr>\n",
       "\t<tr><th scope=row>6</th><td>6</td><td>Rosi+GW</td><td>-0.36047679</td><td>-0.311307559</td><td>-0.51455328</td><td>Rosi+GW</td></tr>\n",
       "</tbody>\n",
       "</table>\n"
      ],
      "text/latex": [
       "A data.frame: 6 × 6\n",
       "\\begin{tabular}{r|llllll}\n",
       "  & X & treatment & cd36 & plin4 & cidec & vars\\\\\n",
       "  & <int> & <fct> & <dbl> & <dbl> & <dbl> & <fct>\\\\\n",
       "\\hline\n",
       "\t1 & 1 & Rosi    &  0.14285654 &  0.032025775 &  0.15544672 & Rosi   \\\\\n",
       "\t2 & 2 & Rosi    & -0.08714346 & -0.024640892 & -0.07121995 & Rosi   \\\\\n",
       "\t3 & 3 & Rosi    & -0.06714346 & -0.007974225 & -0.09788661 & Rosi   \\\\\n",
       "\t4 & 4 & Rosi+GW &  0.02285654 &  0.112025775 &  0.03544672 & Rosi+GW\\\\\n",
       "\t5 & 5 & Rosi+GW & -0.21714346 & -0.091307559 & -0.06455328 & Rosi+GW\\\\\n",
       "\t6 & 6 & Rosi+GW & -0.36047679 & -0.311307559 & -0.51455328 & Rosi+GW\\\\\n",
       "\\end{tabular}\n"
      ],
      "text/markdown": [
       "\n",
       "A data.frame: 6 × 6\n",
       "\n",
       "| <!--/--> | X &lt;int&gt; | treatment &lt;fct&gt; | cd36 &lt;dbl&gt; | plin4 &lt;dbl&gt; | cidec &lt;dbl&gt; | vars &lt;fct&gt; |\n",
       "|---|---|---|---|---|---|---|\n",
       "| 1 | 1 | Rosi    |  0.14285654 |  0.032025775 |  0.15544672 | Rosi    |\n",
       "| 2 | 2 | Rosi    | -0.08714346 | -0.024640892 | -0.07121995 | Rosi    |\n",
       "| 3 | 3 | Rosi    | -0.06714346 | -0.007974225 | -0.09788661 | Rosi    |\n",
       "| 4 | 4 | Rosi+GW |  0.02285654 |  0.112025775 |  0.03544672 | Rosi+GW |\n",
       "| 5 | 5 | Rosi+GW | -0.21714346 | -0.091307559 | -0.06455328 | Rosi+GW |\n",
       "| 6 | 6 | Rosi+GW | -0.36047679 | -0.311307559 | -0.51455328 | Rosi+GW |\n",
       "\n"
      ],
      "text/plain": [
       "  X treatment cd36        plin4        cidec       vars   \n",
       "1 1 Rosi       0.14285654  0.032025775  0.15544672 Rosi   \n",
       "2 2 Rosi      -0.08714346 -0.024640892 -0.07121995 Rosi   \n",
       "3 3 Rosi      -0.06714346 -0.007974225 -0.09788661 Rosi   \n",
       "4 4 Rosi+GW    0.02285654  0.112025775  0.03544672 Rosi+GW\n",
       "5 5 Rosi+GW   -0.21714346 -0.091307559 -0.06455328 Rosi+GW\n",
       "6 6 Rosi+GW   -0.36047679 -0.311307559 -0.51455328 Rosi+GW"
      ]
     },
     "metadata": {},
     "output_type": "display_data"
    }
   ],
   "source": [
    "data_dmso7 <- read.csv('7d-dmso.csv')\n",
    "data_dmso7$treatment <- as.factor(data_dmso7$treatment)\n",
    "data_dmso7$vars <- factor(data_dmso7$treatment, levels = c(\"DMSO\", \"Rosi\", \"GW\", \"XN\", \"TXN\"))\n",
    "colors <- c(\"grey\", \"red\", \"blue\", \"gold\", \"darkgreen\")\n",
    "head(data_dmso7)\n",
    "\n",
    "data_r7 <- read.csv('7d-rosi.csv')\n",
    "data_r7$treatment <- as.factor(data_r7$treatment)\n",
    "data_r7$vars <- factor(data_r7$treatment, levels = c(\"Rosi\", \"Rosi+GW\", \"Rosi+XN\", \"Rosi+TXN\"))\n",
    "colorsR <- c(\"red\", \"blue\", \"gold\", \"darkgreen\")\n",
    "head(data_r7)"
   ]
  },
  {
   "cell_type": "code",
   "execution_count": 5,
   "metadata": {},
   "outputs": [],
   "source": [
    "pparg <- ggplot(data = data_dmso, aes(x = vars, y = pparg, fill = vars)) +\n",
    "    geom_hline(yintercept = 0, lty = 5) +\n",
    "\tstat_summary(fun.data = pars, geom = \"boxplot\", position = \"dodge\", width=0.2) +\n",
    "\tstat_summary(fun.y = outliers, geom = \"point\") +\n",
    "\tscale_fill_manual(values = alpha(colors, .6)) +\n",
    "    #scale_y_continuous(limits = c(-3, 3))+\n",
    "\txlab(\" \") + ylab(\"log2FoldChange\") +\n",
    "\tggtitle(\"Ppar\\u03B3\") +\n",
    "\ttheme_bw() +\n",
    "\ttheme_legend_free()\n",
    "\n",
    "ppargR <- ggplot(data = data_r, aes(x = vars, y = pparg, fill = vars)) +\n",
    "    geom_hline(yintercept = 0, lty = 5) +\n",
    "\tstat_summary(fun.data = pars, geom = \"boxplot\", position = \"dodge\", width=0.2) +\n",
    "\tstat_summary(fun.y = outliers, geom = \"point\") +\n",
    "\tscale_fill_manual(values = alpha(colorsR, .6)) +\n",
    "    #scale_y_continuous(limits = c(-3, 3))+\n",
    "\txlab(\" \") + ylab(\"log2FoldChange\") +\n",
    "\tggtitle(\"Ppar\\u03B3\") +\n",
    "\ttheme_bw() +\n",
    "\ttheme_legend_free()"
   ]
  },
  {
   "cell_type": "code",
   "execution_count": 6,
   "metadata": {},
   "outputs": [],
   "source": [
    "pgc <- ggplot(data = data_dmso, aes(x = vars, y = pgc1a, fill = vars)) +\n",
    "    geom_hline(yintercept = 0, lty = 5) +\n",
    "\tstat_summary(fun.data = pars, geom = \"boxplot\", position = \"dodge\", width=0.2) +\n",
    "\tstat_summary(fun.y = outliers, geom = \"point\") +\n",
    "\tscale_fill_manual(values = alpha(colors, .6)) +\n",
    "    #scale_y_continuous(limits = c(-3, 3))+\n",
    "\txlab(\" \") + ylab(\"log2FoldChange\") +\n",
    "\tggtitle(\"Pgc1\\u03B1\") +\n",
    "\ttheme_bw() +\n",
    "\ttheme_legend_free()\n",
    "\n",
    "pgcR <- ggplot(data = data_r, aes(x = vars, y = pgc1a, fill = vars)) +\n",
    "    geom_hline(yintercept = 0, lty = 5) +\n",
    "\tstat_summary(fun.data = pars, geom = \"boxplot\", position = \"dodge\", width=0.2) +\n",
    "\tstat_summary(fun.y = outliers, geom = \"point\") +\n",
    "\tscale_fill_manual(values = alpha(colorsR, .6)) +\n",
    "    #scale_y_continuous(limits = c(-3, 3))+\n",
    "\txlab(\" \") + ylab(\"log2FoldChange\") +\n",
    "\tggtitle(\"Pgc1\\u03B1\") +\n",
    "\ttheme_bw() +\n",
    "\ttheme_legend_free()"
   ]
  },
  {
   "cell_type": "code",
   "execution_count": 7,
   "metadata": {},
   "outputs": [],
   "source": [
    "fab <- ggplot(data = data_dmso, aes(x = vars, y = fabp4, fill = vars)) +\n",
    "    geom_hline(yintercept = 0, lty = 5) +\n",
    "\tstat_summary(fun.data = pars, geom = \"boxplot\", position = \"dodge\", width=0.2) +\n",
    "\tstat_summary(fun.y = outliers, geom = \"point\") +\n",
    "\tscale_fill_manual(values = alpha(colors, .6)) +\n",
    "    #scale_y_continuous(limits = c(-3, 3))+\n",
    "\txlab(\" \") + ylab(\"log2FoldChange\") +\n",
    "\tggtitle(\"Fabp4/aP2\") +\n",
    "\ttheme_bw() +\n",
    "\ttheme_legend_free()\n",
    "\n",
    "fabR <- ggplot(data = data_r, aes(x = vars, y = fabp4, fill = vars)) +\n",
    "    geom_hline(yintercept = 0, lty = 5) +\n",
    "\tstat_summary(fun.data = pars, geom = \"boxplot\", position = \"dodge\", width=0.2) +\n",
    "\tstat_summary(fun.y = outliers, geom = \"point\") +\n",
    "\tscale_fill_manual(values = alpha(colorsR, .6)) +\n",
    "    #scale_y_continuous(limits = c(-3, 3))+\n",
    "\txlab(\" \") + ylab(\"log2FoldChange\") +\n",
    "\tggtitle(\"Fabp4/aP2\") +\n",
    "\ttheme_bw() +\n",
    "\ttheme_legend_free()"
   ]
  },
  {
   "cell_type": "code",
   "execution_count": 8,
   "metadata": {},
   "outputs": [],
   "source": [
    "cd <- ggplot(data = data_dmso, aes(x = vars, y = cd36, fill = vars)) +\n",
    "    geom_hline(yintercept = 0, lty = 5) +\n",
    "\tstat_summary(fun.data = pars, geom = \"boxplot\", position = \"dodge\", width=0.2) +\n",
    "\tstat_summary(fun.y = outliers, geom = \"point\") +\n",
    "\tscale_fill_manual(values = alpha(colors, .6)) +\n",
    "    #scale_y_continuous(limits = c(-3, 3))+\n",
    "\txlab(\" \") + ylab(\"log2FoldChange\") +\n",
    "\tggtitle(\"Cd36\") +\n",
    "\ttheme_bw() +\n",
    "\ttheme_legend_free()\n",
    "\n",
    "cdR <- ggplot(data = data_r, aes(x = vars, y = cd36, fill = vars)) +\n",
    "    geom_hline(yintercept = 0, lty = 5) +\n",
    "\tstat_summary(fun.data = pars, geom = \"boxplot\", position = \"dodge\", width=0.2) +\n",
    "\tstat_summary(fun.y = outliers, geom = \"point\") +\n",
    "\tscale_fill_manual(values = alpha(colorsR, .6)) +\n",
    "    #scale_y_continuous(limits = c(-3, 3))+\n",
    "\txlab(\" \") + ylab(\"log2FoldChange\") +\n",
    "\tggtitle(\"Cd36\") +\n",
    "\ttheme_bw() +\n",
    "\ttheme_legend_free()"
   ]
  },
  {
   "cell_type": "code",
   "execution_count": 12,
   "metadata": {},
   "outputs": [
    {
     "data": {
      "image/png": "[encoded data removed]",
      "text/plain": [
       "plot without title"
      ]
     },
     "metadata": {
      "image/png": {
       "height": 420,
       "width": 420
      }
     },
     "output_type": "display_data"
    },
    {
     "data": {
      "image/png": "[encoded data removed]",
      "text/plain": [
       "plot without title"
      ]
     },
     "metadata": {
      "image/png": {
       "height": 420,
       "width": 420
      }
     },
     "output_type": "display_data"
    }
   ],
   "source": [
    "cd7 <- ggplot(data = data_dmso7, aes(x = vars, y = cd36, fill = vars)) +\n",
    "    geom_hline(yintercept = 0, lty = 5) +\n",
    "\tstat_summary(fun.data = pars, geom = \"boxplot\", position = \"dodge\", width=0.2) +\n",
    "\tstat_summary(fun.y = outliers, geom = \"point\") +\n",
    "\tscale_fill_manual(values = alpha(colors, .6)) +\n",
    "    #scale_y_continuous(limits = c(-3, 3))+\n",
    "\txlab(\" \") + ylab(\"log2FoldChange\") +\n",
    "\tggtitle(\"Cd36\") +\n",
    "\ttheme_bw() +\n",
    "\ttheme_legend_free()\n",
    "\n",
    "cdR7 <- ggplot(data = data_r7, aes(x = vars, y = cd36, fill = vars)) +\n",
    "    geom_hline(yintercept = 0, lty = 5) +\n",
    "\tstat_summary(fun.data = pars, geom = \"boxplot\", position = \"dodge\", width=0.2) +\n",
    "\tstat_summary(fun.y = outliers, geom = \"point\") +\n",
    "\tscale_fill_manual(values = alpha(colorsR, .6)) +\n",
    "    #scale_y_continuous(limits = c(-3, 3))+\n",
    "\txlab(\" \") + ylab(\"log2FoldChange\") +\n",
    "\tggtitle(\"Cd36\") +\n",
    "\ttheme_bw() +\n",
    "\ttheme_legend_free()\n",
    "cd7\n",
    "cdR7"
   ]
  },
  {
   "cell_type": "code",
   "execution_count": 9,
   "metadata": {},
   "outputs": [],
   "source": [
    "scd <- ggplot(data = data_dmso, aes(x = vars, y = scd1, fill = vars)) +\n",
    "    geom_hline(yintercept = 0, lty = 5) +\n",
    "\tstat_summary(fun.data = pars, geom = \"boxplot\", position = \"dodge\", width=0.2) +\n",
    "\tstat_summary(fun.y = outliers, geom = \"point\") +\n",
    "\tscale_fill_manual(values = alpha(colors, .6)) +\n",
    "    #scale_y_continuous(limits = c(-3, 3))+\n",
    "\txlab(\" \") + ylab(\"log2FoldChange\") +\n",
    "\tggtitle(\"Scd1\") +\n",
    "\ttheme_bw() +\n",
    "\ttheme_legend_free()\n",
    "\n",
    "scdR <- ggplot(data = data_r, aes(x = vars, y = scd1, fill = vars)) +\n",
    "    geom_hline(yintercept = 0, lty = 5) +\n",
    "\tstat_summary(fun.data = pars, geom = \"boxplot\", position = \"dodge\", width=0.2) +\n",
    "\tstat_summary(fun.y = outliers, geom = \"point\") +\n",
    "\tscale_fill_manual(values = alpha(colorsR, .6)) +\n",
    "    #scale_y_continuous(limits = c(-3, 3))+\n",
    "\txlab(\" \") + ylab(\"log2FoldChange\") +\n",
    "\tggtitle(\"Scd1\") +\n",
    "\ttheme_bw() +\n",
    "\ttheme_legend_free()"
   ]
  },
  {
   "cell_type": "code",
   "execution_count": 10,
   "metadata": {},
   "outputs": [],
   "source": [
    "sreb <- ggplot(data = data_dmso, aes(x = vars, y = srebp1c, fill = vars)) +\n",
    "    geom_hline(yintercept = 0, lty = 5) +\n",
    "\tstat_summary(fun.data = pars, geom = \"boxplot\", position = \"dodge\", width=0.2) +\n",
    "\tstat_summary(fun.y = outliers, geom = \"point\") +\n",
    "\tscale_fill_manual(values = alpha(colors, .6)) +\n",
    "    #scale_y_continuous(limits = c(-3, 3))+\n",
    "\txlab(\" \") + ylab(\"log2FoldChange\") +\n",
    "\tggtitle(\"Srebp1c\") +\n",
    "\ttheme_bw() +\n",
    "\ttheme_legend_free()\n",
    "\n",
    "srebR <- ggplot(data = data_r, aes(x = vars, y = srebp1c, fill = vars)) +\n",
    "    geom_hline(yintercept = 0, lty = 5) +\n",
    "\tstat_summary(fun.data = pars, geom = \"boxplot\", position = \"dodge\", width=0.2) +\n",
    "\tstat_summary(fun.y = outliers, geom = \"point\") +\n",
    "\tscale_fill_manual(values = alpha(colorsR, .6)) +\n",
    "    #scale_y_continuous(limits = c(-3, 3))+\n",
    "\txlab(\" \") + ylab(\"log2FoldChange\") +\n",
    "\tggtitle(\"Srebp1c\") +\n",
    "\ttheme_bw() +\n",
    "\ttheme_legend_free()"
   ]
  },
  {
   "cell_type": "code",
   "execution_count": 11,
   "metadata": {},
   "outputs": [],
   "source": [
    "lpl <- ggplot(data = data_dmso, aes(x = vars, y = lpl, fill = vars)) +\n",
    "    geom_hline(yintercept = 0, lty = 5) +\n",
    "\tstat_summary(fun.data = pars, geom = \"boxplot\", position = \"dodge\", width=0.2) +\n",
    "\tstat_summary(fun.y = outliers, geom = \"point\") +\n",
    "\tscale_fill_manual(values = alpha(colors, .6)) +\n",
    "    #scale_y_continuous(limits = c(-3, 3))+\n",
    "\txlab(\" \") + ylab(\"log2FoldChange\") +\n",
    "\tggtitle(\"Lpl\") +\n",
    "\ttheme_bw() +\n",
    "\ttheme_legend_free()\n",
    "\n",
    "lplR <- ggplot(data = data_r, aes(x = vars, y = lpl, fill = vars)) +\n",
    "    geom_hline(yintercept = 0, lty = 5) +\n",
    "\tstat_summary(fun.data = pars, geom = \"boxplot\", position = \"dodge\", width=0.2) +\n",
    "\tstat_summary(fun.y = outliers, geom = \"point\") +\n",
    "\tscale_fill_manual(values = alpha(colorsR, .6)) +\n",
    "    #scale_y_continuous(limits = c(-3, 3))+\n",
    "\txlab(\" \") + ylab(\"log2FoldChange\") +\n",
    "\tggtitle(\"Lpl\") +\n",
    "\ttheme_bw() +\n",
    "\ttheme_legend_free()"
   ]
  },
  {
   "cell_type": "code",
   "execution_count": 21,
   "metadata": {},
   "outputs": [],
   "source": [
    "plin <- ggplot(data = data_dmso, aes(x = vars, y = plin4, fill = vars)) +\n",
    "    geom_hline(yintercept = 0, lty = 5) +\n",
    "\tstat_summary(fun.data = pars, geom = \"boxplot\", position = \"dodge\", width=0.2) +\n",
    "\tstat_summary(fun.y = outliers, geom = \"point\") +\n",
    "\tscale_fill_manual(values = alpha(colors, .6)) +\n",
    "    #scale_y_continuous(limits = c(-3, 3))+\n",
    "\txlab(\" \") + ylab(\"log2FoldChange\") +\n",
    "\tggtitle(\"Plin4\") +\n",
    "\ttheme_bw() +\n",
    "\ttheme_legend_free()\n",
    "\n",
    "plinR <- ggplot(data = data_r, aes(x = vars, y = plin4, fill = vars)) +\n",
    "    geom_hline(yintercept = 0, lty = 5) +\n",
    "\tstat_summary(fun.data = pars, geom = \"boxplot\", position = \"dodge\", width=0.2) +\n",
    "\tstat_summary(fun.y = outliers, geom = \"point\") +\n",
    "\tscale_fill_manual(values = alpha(colorsR, .6)) +\n",
    "    #scale_y_continuous(limits = c(-3, 3))+\n",
    "\txlab(\" \") + ylab(\"log2FoldChange\") +\n",
    "\tggtitle(\"Plin4\") +\n",
    "\ttheme_bw() +\n",
    "\ttheme_legend_free()"
   ]
  },
  {
   "cell_type": "code",
   "execution_count": 5,
   "metadata": {},
   "outputs": [],
   "source": [
    "cid <- ggplot(data = data_dmso, aes(x = vars, y = cidec, fill = vars)) +\n",
    "    geom_hline(yintercept = 0, lty = 5) +\n",
    "\tstat_summary(fun.data = pars, geom = \"boxplot\", position = \"dodge\", width=0.2) +\n",
    "\tstat_summary(fun.y = outliers, geom = \"point\") +\n",
    "\tscale_fill_manual(values = alpha(colors, .6)) +\n",
    "    #scale_y_continuous(limits = c(-3, 3))+\n",
    "\txlab(\" \") + ylab(\"log2FoldChange\") +\n",
    "\tggtitle(\"Cidec\") +\n",
    "\ttheme_bw() +\n",
    "\ttheme_legend_free()\n",
    "\n",
    "cidR <- ggplot(data = data_r, aes(x = vars, y = cidec, fill = vars)) +\n",
    "    geom_hline(yintercept = 0, lty = 5) +\n",
    "\tstat_summary(fun.data = pars, geom = \"boxplot\", position = \"dodge\", width=0.2) +\n",
    "\tstat_summary(fun.y = outliers, geom = \"point\") +\n",
    "\tscale_fill_manual(values = alpha(colorsR, .6)) +\n",
    "    #scale_y_continuous(limits = c(-3, 3))+\n",
    "\txlab(\" \") + ylab(\"log2FoldChange\") +\n",
    "\tggtitle(\"Cidec\") +\n",
    "\ttheme_bw() +\n",
    "\ttheme_legend_free()"
   ]
  },
  {
   "cell_type": "code",
   "execution_count": 125,
   "metadata": {},
   "outputs": [],
   "source": [
    "plot <- (pparg | pgc | fab) / (cd | scd | sreb)\n",
    "plot2 <- plot + plot_annotation(\n",
    "  title = '25 µM XN inhibits Ibmx+Dex+insulin induced differentiation (N=3)'\n",
    ") & theme(plot.title = element_text(size = 18, face='bold'))"
   ]
  },
  {
   "cell_type": "code",
   "execution_count": 126,
   "metadata": {},
   "outputs": [
    {
     "name": "stderr",
     "output_type": "stream",
     "text": [
      "Exported graph as plot.pdf\n",
      "\n"
     ]
    }
   ],
   "source": [
    "graph2pdf(plot2, file = \"plot.pdf\", width = 16, height = 8)"
   ]
  },
  {
   "cell_type": "code",
   "execution_count": 127,
   "metadata": {},
   "outputs": [],
   "source": [
    "plotR <- (ppargR | pgcR | fabR) / (cdR | scdR | srebR)\n",
    "plot2R <- plotR + plot_annotation(\n",
    "  title = '25 µM XN and TXN suppress rosiglitazone induced differentiation (N=3)'\n",
    ") & theme(plot.title = element_text(size = 18, face='bold'))"
   ]
  },
  {
   "cell_type": "code",
   "execution_count": 128,
   "metadata": {},
   "outputs": [
    {
     "name": "stderr",
     "output_type": "stream",
     "text": [
      "Exported graph as plotR.pdf\n",
      "\n"
     ]
    }
   ],
   "source": [
    "graph2pdf(plot2R, file = \"plotR.pdf\", width = 16, height = 8)"
   ]
  },
  {
   "cell_type": "code",
   "execution_count": 6,
   "metadata": {},
   "outputs": [
    {
     "name": "stderr",
     "output_type": "stream",
     "text": [
      "Exported graph as cidec.pdf\n",
      "\n"
     ]
    }
   ],
   "source": [
    "graph2pdf(cid, file = \"cidec.pdf\", width = 6, height = 5)"
   ]
  },
  {
   "cell_type": "code",
   "execution_count": 7,
   "metadata": {},
   "outputs": [
    {
     "name": "stderr",
     "output_type": "stream",
     "text": [
      "Exported graph as cidecR.pdf\n",
      "\n"
     ]
    }
   ],
   "source": [
    "graph2pdf(cidR, file = \"cidecR.pdf\", width = 6, height = 5)"
   ]
  },
  {
   "cell_type": "code",
   "execution_count": 35,
   "metadata": {},
   "outputs": [
    {
     "data": {
      "text/html": [
       "<table>\n",
       "<caption>A data.frame: 6 × 4</caption>\n",
       "<thead>\n",
       "\t<tr><th></th><th scope=col>time</th><th scope=col>treatment</th><th scope=col>cd36</th><th scope=col>vars</th></tr>\n",
       "\t<tr><th></th><th scope=col>&lt;fct&gt;</th><th scope=col>&lt;fct&gt;</th><th scope=col>&lt;dbl&gt;</th><th scope=col>&lt;fct&gt;</th></tr>\n",
       "</thead>\n",
       "<tbody>\n",
       "\t<tr><th scope=row>1</th><td>24hr</td><td>DMSO</td><td> 0.6679965</td><td>DMSO</td></tr>\n",
       "\t<tr><th scope=row>2</th><td>24hr</td><td>DMSO</td><td>-0.1386702</td><td>DMSO</td></tr>\n",
       "\t<tr><th scope=row>3</th><td>24hr</td><td>DMSO</td><td>-0.9920035</td><td>DMSO</td></tr>\n",
       "\t<tr><th scope=row>4</th><td>24hr</td><td>Rosi</td><td> 3.2446631</td><td>Rosi</td></tr>\n",
       "\t<tr><th scope=row>5</th><td>24hr</td><td>Rosi</td><td> 2.1913298</td><td>Rosi</td></tr>\n",
       "\t<tr><th scope=row>6</th><td>24hr</td><td>Rosi</td><td> 1.9396631</td><td>Rosi</td></tr>\n",
       "</tbody>\n",
       "</table>\n"
      ],
      "text/latex": [
       "A data.frame: 6 × 4\n",
       "\\begin{tabular}{r|llll}\n",
       "  & time & treatment & cd36 & vars\\\\\n",
       "  & <fct> & <fct> & <dbl> & <fct>\\\\\n",
       "\\hline\n",
       "\t1 & 24hr & DMSO &  0.6679965 & DMSO\\\\\n",
       "\t2 & 24hr & DMSO & -0.1386702 & DMSO\\\\\n",
       "\t3 & 24hr & DMSO & -0.9920035 & DMSO\\\\\n",
       "\t4 & 24hr & Rosi &  3.2446631 & Rosi\\\\\n",
       "\t5 & 24hr & Rosi &  2.1913298 & Rosi\\\\\n",
       "\t6 & 24hr & Rosi &  1.9396631 & Rosi\\\\\n",
       "\\end{tabular}\n"
      ],
      "text/markdown": [
       "\n",
       "A data.frame: 6 × 4\n",
       "\n",
       "| <!--/--> | time &lt;fct&gt; | treatment &lt;fct&gt; | cd36 &lt;dbl&gt; | vars &lt;fct&gt; |\n",
       "|---|---|---|---|---|\n",
       "| 1 | 24hr | DMSO |  0.6679965 | DMSO |\n",
       "| 2 | 24hr | DMSO | -0.1386702 | DMSO |\n",
       "| 3 | 24hr | DMSO | -0.9920035 | DMSO |\n",
       "| 4 | 24hr | Rosi |  3.2446631 | Rosi |\n",
       "| 5 | 24hr | Rosi |  2.1913298 | Rosi |\n",
       "| 6 | 24hr | Rosi |  1.9396631 | Rosi |\n",
       "\n"
      ],
      "text/plain": [
       "  time treatment cd36       vars\n",
       "1 24hr DMSO       0.6679965 DMSO\n",
       "2 24hr DMSO      -0.1386702 DMSO\n",
       "3 24hr DMSO      -0.9920035 DMSO\n",
       "4 24hr Rosi       3.2446631 Rosi\n",
       "5 24hr Rosi       2.1913298 Rosi\n",
       "6 24hr Rosi       1.9396631 Rosi"
      ]
     },
     "metadata": {},
     "output_type": "display_data"
    },
    {
     "data": {
      "text/html": [
       "<table>\n",
       "<caption>A data.frame: 9 × 4</caption>\n",
       "<thead>\n",
       "\t<tr><th scope=col>time</th><th scope=col>treatment</th><th scope=col>cd36</th><th scope=col>vars</th></tr>\n",
       "\t<tr><th scope=col>&lt;fct&gt;</th><th scope=col>&lt;fct&gt;</th><th scope=col>&lt;dbl&gt;</th><th scope=col>&lt;fct&gt;</th></tr>\n",
       "</thead>\n",
       "<tbody>\n",
       "\t<tr><td>24hr</td><td>Rosi</td><td>3.2446631</td><td>Rosi</td></tr>\n",
       "\t<tr><td>24hr</td><td>Rosi</td><td>2.1913298</td><td>Rosi</td></tr>\n",
       "\t<tr><td>24hr</td><td>Rosi</td><td>1.9396631</td><td>Rosi</td></tr>\n",
       "\t<tr><td>4d  </td><td>Rosi</td><td>0.4367400</td><td>Rosi</td></tr>\n",
       "\t<tr><td>4d  </td><td>Rosi</td><td>0.1000733</td><td>Rosi</td></tr>\n",
       "\t<tr><td>4d  </td><td>Rosi</td><td>0.1700733</td><td>Rosi</td></tr>\n",
       "\t<tr><td>7d  </td><td>Rosi</td><td>4.4614429</td><td>Rosi</td></tr>\n",
       "\t<tr><td>7d  </td><td>Rosi</td><td>4.2314429</td><td>Rosi</td></tr>\n",
       "\t<tr><td>7d  </td><td>Rosi</td><td>4.2514429</td><td>Rosi</td></tr>\n",
       "</tbody>\n",
       "</table>\n"
      ],
      "text/latex": [
       "A data.frame: 9 × 4\n",
       "\\begin{tabular}{llll}\n",
       " time & treatment & cd36 & vars\\\\\n",
       " <fct> & <fct> & <dbl> & <fct>\\\\\n",
       "\\hline\n",
       "\t 24hr & Rosi & 3.2446631 & Rosi\\\\\n",
       "\t 24hr & Rosi & 2.1913298 & Rosi\\\\\n",
       "\t 24hr & Rosi & 1.9396631 & Rosi\\\\\n",
       "\t 4d   & Rosi & 0.4367400 & Rosi\\\\\n",
       "\t 4d   & Rosi & 0.1000733 & Rosi\\\\\n",
       "\t 4d   & Rosi & 0.1700733 & Rosi\\\\\n",
       "\t 7d   & Rosi & 4.4614429 & Rosi\\\\\n",
       "\t 7d   & Rosi & 4.2314429 & Rosi\\\\\n",
       "\t 7d   & Rosi & 4.2514429 & Rosi\\\\\n",
       "\\end{tabular}\n"
      ],
      "text/markdown": [
       "\n",
       "A data.frame: 9 × 4\n",
       "\n",
       "| time &lt;fct&gt; | treatment &lt;fct&gt; | cd36 &lt;dbl&gt; | vars &lt;fct&gt; |\n",
       "|---|---|---|---|\n",
       "| 24hr | Rosi | 3.2446631 | Rosi |\n",
       "| 24hr | Rosi | 2.1913298 | Rosi |\n",
       "| 24hr | Rosi | 1.9396631 | Rosi |\n",
       "| 4d   | Rosi | 0.4367400 | Rosi |\n",
       "| 4d   | Rosi | 0.1000733 | Rosi |\n",
       "| 4d   | Rosi | 0.1700733 | Rosi |\n",
       "| 7d   | Rosi | 4.4614429 | Rosi |\n",
       "| 7d   | Rosi | 4.2314429 | Rosi |\n",
       "| 7d   | Rosi | 4.2514429 | Rosi |\n",
       "\n"
      ],
      "text/plain": [
       "  time treatment cd36      vars\n",
       "1 24hr Rosi      3.2446631 Rosi\n",
       "2 24hr Rosi      2.1913298 Rosi\n",
       "3 24hr Rosi      1.9396631 Rosi\n",
       "4 4d   Rosi      0.4367400 Rosi\n",
       "5 4d   Rosi      0.1000733 Rosi\n",
       "6 4d   Rosi      0.1700733 Rosi\n",
       "7 7d   Rosi      4.4614429 Rosi\n",
       "8 7d   Rosi      4.2314429 Rosi\n",
       "9 7d   Rosi      4.2514429 Rosi"
      ]
     },
     "metadata": {},
     "output_type": "display_data"
    }
   ],
   "source": [
    "ts_dmso <- read.csv('dmso-timeseries.csv')\n",
    "ts_dmso$treatment <- as.factor(ts_dmso$treatment)\n",
    "ts_dmso$time <- as.factor(ts_dmso$time)\n",
    "ts_dmso$vars <- factor(ts_dmso$treatment, levels = c(\"DMSO\", \"Rosi\", \"GW\", \"XN\", \"TXN\"))\n",
    "colors <- c(\"grey\", \"red\", \"blue\", \"gold\", \"darkgreen\")\n",
    "head(ts_dmso)\n",
    "rosi <- ts_dmso %>% filter(vars == \"Rosi\")\n",
    "rosi"
   ]
  },
  {
   "cell_type": "code",
   "execution_count": 6,
   "metadata": {},
   "outputs": [
    {
     "ename": "ERROR",
     "evalue": "Error in ggplot(ts_dmso, aes(x = time, y = cd36, colour = vars)): object 'ts_dmso' not found\n",
     "output_type": "error",
     "traceback": [
      "Error in ggplot(ts_dmso, aes(x = time, y = cd36, colour = vars)): object 'ts_dmso' not found\nTraceback:\n",
      "1. ggplot(ts_dmso, aes(x = time, y = cd36, colour = vars))"
     ]
    }
   ],
   "source": [
    "ggplot(ts_dmso, aes(x=time, y=cd36, colour=vars)) +\n",
    "  geom_line() + \n",
    "  #geom_point(shape=21, color=\"black\", fill=\"#69b3a2\", size=6)"
   ]
  },
  {
   "cell_type": "code",
   "execution_count": 23,
   "metadata": {},
   "outputs": [],
   "source": [
    "data <- read.table(\"https://raw.githubusercontent.com/holtzy/data_to_viz/master/Example_dataset/3_TwoNumOrdered.csv\", header=T)\n",
    "data$date <- as.Date(data$date)"
   ]
  },
  {
   "cell_type": "code",
   "execution_count": 24,
   "metadata": {},
   "outputs": [
    {
     "data": {
      "text/html": [
       "<table>\n",
       "<caption>A data.frame: 1822 × 2</caption>\n",
       "<thead>\n",
       "\t<tr><th scope=col>date</th><th scope=col>value</th></tr>\n",
       "\t<tr><th scope=col>&lt;date&gt;</th><th scope=col>&lt;dbl&gt;</th></tr>\n",
       "</thead>\n",
       "<tbody>\n",
       "\t<tr><td>2013-04-28</td><td>135.98</td></tr>\n",
       "\t<tr><td>2013-04-29</td><td>147.49</td></tr>\n",
       "\t<tr><td>2013-04-30</td><td>146.93</td></tr>\n",
       "\t<tr><td>2013-05-01</td><td>139.89</td></tr>\n",
       "\t<tr><td>2013-05-02</td><td>125.60</td></tr>\n",
       "\t<tr><td>2013-05-03</td><td>108.13</td></tr>\n",
       "\t<tr><td>2013-05-04</td><td>115.00</td></tr>\n",
       "\t<tr><td>2013-05-05</td><td>118.80</td></tr>\n",
       "\t<tr><td>2013-05-06</td><td>124.66</td></tr>\n",
       "\t<tr><td>2013-05-07</td><td>113.44</td></tr>\n",
       "\t<tr><td>2013-05-08</td><td>115.78</td></tr>\n",
       "\t<tr><td>2013-05-09</td><td>113.46</td></tr>\n",
       "\t<tr><td>2013-05-10</td><td>122.00</td></tr>\n",
       "\t<tr><td>2013-05-11</td><td>118.68</td></tr>\n",
       "\t<tr><td>2013-05-12</td><td>117.45</td></tr>\n",
       "\t<tr><td>2013-05-13</td><td>118.70</td></tr>\n",
       "\t<tr><td>2013-05-14</td><td>119.80</td></tr>\n",
       "\t<tr><td>2013-05-15</td><td>115.81</td></tr>\n",
       "\t<tr><td>2013-05-16</td><td>118.76</td></tr>\n",
       "\t<tr><td>2013-05-17</td><td>125.30</td></tr>\n",
       "\t<tr><td>2013-05-18</td><td>125.25</td></tr>\n",
       "\t<tr><td>2013-05-19</td><td>124.50</td></tr>\n",
       "\t<tr><td>2013-05-20</td><td>123.62</td></tr>\n",
       "\t<tr><td>2013-05-21</td><td>123.00</td></tr>\n",
       "\t<tr><td>2013-05-22</td><td>124.00</td></tr>\n",
       "\t<tr><td>2013-05-23</td><td>126.93</td></tr>\n",
       "\t<tr><td>2013-05-24</td><td>133.85</td></tr>\n",
       "\t<tr><td>2013-05-25</td><td>133.22</td></tr>\n",
       "\t<tr><td>2013-05-26</td><td>136.00</td></tr>\n",
       "\t<tr><td>2013-05-27</td><td>135.47</td></tr>\n",
       "\t<tr><td>⋮</td><td>⋮</td></tr>\n",
       "\t<tr><td>2018-03-25</td><td>8682.01</td></tr>\n",
       "\t<tr><td>2018-03-26</td><td>8530.08</td></tr>\n",
       "\t<tr><td>2018-03-27</td><td>8232.78</td></tr>\n",
       "\t<tr><td>2018-03-28</td><td>8122.89</td></tr>\n",
       "\t<tr><td>2018-03-29</td><td>7994.33</td></tr>\n",
       "\t<tr><td>2018-03-30</td><td>7276.66</td></tr>\n",
       "\t<tr><td>2018-03-31</td><td>7207.85</td></tr>\n",
       "\t<tr><td>2018-04-01</td><td>7060.95</td></tr>\n",
       "\t<tr><td>2018-04-02</td><td>7135.47</td></tr>\n",
       "\t<tr><td>2018-04-03</td><td>7530.94</td></tr>\n",
       "\t<tr><td>2018-04-04</td><td>7469.88</td></tr>\n",
       "\t<tr><td>2018-04-05</td><td>6933.82</td></tr>\n",
       "\t<tr><td>2018-04-06</td><td>6857.49</td></tr>\n",
       "\t<tr><td>2018-04-07</td><td>7050.54</td></tr>\n",
       "\t<tr><td>2018-04-08</td><td>7111.56</td></tr>\n",
       "\t<tr><td>2018-04-09</td><td>7178.11</td></tr>\n",
       "\t<tr><td>2018-04-10</td><td>6872.41</td></tr>\n",
       "\t<tr><td>2018-04-11</td><td>6968.32</td></tr>\n",
       "\t<tr><td>2018-04-12</td><td>7899.23</td></tr>\n",
       "\t<tr><td>2018-04-13</td><td>8183.96</td></tr>\n",
       "\t<tr><td>2018-04-14</td><td>8140.71</td></tr>\n",
       "\t<tr><td>2018-04-15</td><td>8338.42</td></tr>\n",
       "\t<tr><td>2018-04-16</td><td>8371.15</td></tr>\n",
       "\t<tr><td>2018-04-17</td><td>8285.96</td></tr>\n",
       "\t<tr><td>2018-04-18</td><td>8197.80</td></tr>\n",
       "\t<tr><td>2018-04-19</td><td>8298.69</td></tr>\n",
       "\t<tr><td>2018-04-20</td><td>8880.23</td></tr>\n",
       "\t<tr><td>2018-04-21</td><td>8997.57</td></tr>\n",
       "\t<tr><td>2018-04-22</td><td>9001.64</td></tr>\n",
       "\t<tr><td>2018-04-23</td><td>8958.55</td></tr>\n",
       "</tbody>\n",
       "</table>\n"
      ],
      "text/latex": [
       "A data.frame: 1822 × 2\n",
       "\\begin{tabular}{ll}\n",
       " date & value\\\\\n",
       " <date> & <dbl>\\\\\n",
       "\\hline\n",
       "\t 2013-04-28 & 135.98\\\\\n",
       "\t 2013-04-29 & 147.49\\\\\n",
       "\t 2013-04-30 & 146.93\\\\\n",
       "\t 2013-05-01 & 139.89\\\\\n",
       "\t 2013-05-02 & 125.60\\\\\n",
       "\t 2013-05-03 & 108.13\\\\\n",
       "\t 2013-05-04 & 115.00\\\\\n",
       "\t 2013-05-05 & 118.80\\\\\n",
       "\t 2013-05-06 & 124.66\\\\\n",
       "\t 2013-05-07 & 113.44\\\\\n",
       "\t 2013-05-08 & 115.78\\\\\n",
       "\t 2013-05-09 & 113.46\\\\\n",
       "\t 2013-05-10 & 122.00\\\\\n",
       "\t 2013-05-11 & 118.68\\\\\n",
       "\t 2013-05-12 & 117.45\\\\\n",
       "\t 2013-05-13 & 118.70\\\\\n",
       "\t 2013-05-14 & 119.80\\\\\n",
       "\t 2013-05-15 & 115.81\\\\\n",
       "\t 2013-05-16 & 118.76\\\\\n",
       "\t 2013-05-17 & 125.30\\\\\n",
       "\t 2013-05-18 & 125.25\\\\\n",
       "\t 2013-05-19 & 124.50\\\\\n",
       "\t 2013-05-20 & 123.62\\\\\n",
       "\t 2013-05-21 & 123.00\\\\\n",
       "\t 2013-05-22 & 124.00\\\\\n",
       "\t 2013-05-23 & 126.93\\\\\n",
       "\t 2013-05-24 & 133.85\\\\\n",
       "\t 2013-05-25 & 133.22\\\\\n",
       "\t 2013-05-26 & 136.00\\\\\n",
       "\t 2013-05-27 & 135.47\\\\\n",
       "\t ⋮ & ⋮\\\\\n",
       "\t 2018-03-25 & 8682.01\\\\\n",
       "\t 2018-03-26 & 8530.08\\\\\n",
       "\t 2018-03-27 & 8232.78\\\\\n",
       "\t 2018-03-28 & 8122.89\\\\\n",
       "\t 2018-03-29 & 7994.33\\\\\n",
       "\t 2018-03-30 & 7276.66\\\\\n",
       "\t 2018-03-31 & 7207.85\\\\\n",
       "\t 2018-04-01 & 7060.95\\\\\n",
       "\t 2018-04-02 & 7135.47\\\\\n",
       "\t 2018-04-03 & 7530.94\\\\\n",
       "\t 2018-04-04 & 7469.88\\\\\n",
       "\t 2018-04-05 & 6933.82\\\\\n",
       "\t 2018-04-06 & 6857.49\\\\\n",
       "\t 2018-04-07 & 7050.54\\\\\n",
       "\t 2018-04-08 & 7111.56\\\\\n",
       "\t 2018-04-09 & 7178.11\\\\\n",
       "\t 2018-04-10 & 6872.41\\\\\n",
       "\t 2018-04-11 & 6968.32\\\\\n",
       "\t 2018-04-12 & 7899.23\\\\\n",
       "\t 2018-04-13 & 8183.96\\\\\n",
       "\t 2018-04-14 & 8140.71\\\\\n",
       "\t 2018-04-15 & 8338.42\\\\\n",
       "\t 2018-04-16 & 8371.15\\\\\n",
       "\t 2018-04-17 & 8285.96\\\\\n",
       "\t 2018-04-18 & 8197.80\\\\\n",
       "\t 2018-04-19 & 8298.69\\\\\n",
       "\t 2018-04-20 & 8880.23\\\\\n",
       "\t 2018-04-21 & 8997.57\\\\\n",
       "\t 2018-04-22 & 9001.64\\\\\n",
       "\t 2018-04-23 & 8958.55\\\\\n",
       "\\end{tabular}\n"
      ],
      "text/markdown": [
       "\n",
       "A data.frame: 1822 × 2\n",
       "\n",
       "| date &lt;date&gt; | value &lt;dbl&gt; |\n",
       "|---|---|\n",
       "| 2013-04-28 | 135.98 |\n",
       "| 2013-04-29 | 147.49 |\n",
       "| 2013-04-30 | 146.93 |\n",
       "| 2013-05-01 | 139.89 |\n",
       "| 2013-05-02 | 125.60 |\n",
       "| 2013-05-03 | 108.13 |\n",
       "| 2013-05-04 | 115.00 |\n",
       "| 2013-05-05 | 118.80 |\n",
       "| 2013-05-06 | 124.66 |\n",
       "| 2013-05-07 | 113.44 |\n",
       "| 2013-05-08 | 115.78 |\n",
       "| 2013-05-09 | 113.46 |\n",
       "| 2013-05-10 | 122.00 |\n",
       "| 2013-05-11 | 118.68 |\n",
       "| 2013-05-12 | 117.45 |\n",
       "| 2013-05-13 | 118.70 |\n",
       "| 2013-05-14 | 119.80 |\n",
       "| 2013-05-15 | 115.81 |\n",
       "| 2013-05-16 | 118.76 |\n",
       "| 2013-05-17 | 125.30 |\n",
       "| 2013-05-18 | 125.25 |\n",
       "| 2013-05-19 | 124.50 |\n",
       "| 2013-05-20 | 123.62 |\n",
       "| 2013-05-21 | 123.00 |\n",
       "| 2013-05-22 | 124.00 |\n",
       "| 2013-05-23 | 126.93 |\n",
       "| 2013-05-24 | 133.85 |\n",
       "| 2013-05-25 | 133.22 |\n",
       "| 2013-05-26 | 136.00 |\n",
       "| 2013-05-27 | 135.47 |\n",
       "| ⋮ | ⋮ |\n",
       "| 2018-03-25 | 8682.01 |\n",
       "| 2018-03-26 | 8530.08 |\n",
       "| 2018-03-27 | 8232.78 |\n",
       "| 2018-03-28 | 8122.89 |\n",
       "| 2018-03-29 | 7994.33 |\n",
       "| 2018-03-30 | 7276.66 |\n",
       "| 2018-03-31 | 7207.85 |\n",
       "| 2018-04-01 | 7060.95 |\n",
       "| 2018-04-02 | 7135.47 |\n",
       "| 2018-04-03 | 7530.94 |\n",
       "| 2018-04-04 | 7469.88 |\n",
       "| 2018-04-05 | 6933.82 |\n",
       "| 2018-04-06 | 6857.49 |\n",
       "| 2018-04-07 | 7050.54 |\n",
       "| 2018-04-08 | 7111.56 |\n",
       "| 2018-04-09 | 7178.11 |\n",
       "| 2018-04-10 | 6872.41 |\n",
       "| 2018-04-11 | 6968.32 |\n",
       "| 2018-04-12 | 7899.23 |\n",
       "| 2018-04-13 | 8183.96 |\n",
       "| 2018-04-14 | 8140.71 |\n",
       "| 2018-04-15 | 8338.42 |\n",
       "| 2018-04-16 | 8371.15 |\n",
       "| 2018-04-17 | 8285.96 |\n",
       "| 2018-04-18 | 8197.80 |\n",
       "| 2018-04-19 | 8298.69 |\n",
       "| 2018-04-20 | 8880.23 |\n",
       "| 2018-04-21 | 8997.57 |\n",
       "| 2018-04-22 | 9001.64 |\n",
       "| 2018-04-23 | 8958.55 |\n",
       "\n"
      ],
      "text/plain": [
       "     date       value  \n",
       "1    2013-04-28 135.98 \n",
       "2    2013-04-29 147.49 \n",
       "3    2013-04-30 146.93 \n",
       "4    2013-05-01 139.89 \n",
       "5    2013-05-02 125.60 \n",
       "6    2013-05-03 108.13 \n",
       "7    2013-05-04 115.00 \n",
       "8    2013-05-05 118.80 \n",
       "9    2013-05-06 124.66 \n",
       "10   2013-05-07 113.44 \n",
       "11   2013-05-08 115.78 \n",
       "12   2013-05-09 113.46 \n",
       "13   2013-05-10 122.00 \n",
       "14   2013-05-11 118.68 \n",
       "15   2013-05-12 117.45 \n",
       "16   2013-05-13 118.70 \n",
       "17   2013-05-14 119.80 \n",
       "18   2013-05-15 115.81 \n",
       "19   2013-05-16 118.76 \n",
       "20   2013-05-17 125.30 \n",
       "21   2013-05-18 125.25 \n",
       "22   2013-05-19 124.50 \n",
       "23   2013-05-20 123.62 \n",
       "24   2013-05-21 123.00 \n",
       "25   2013-05-22 124.00 \n",
       "26   2013-05-23 126.93 \n",
       "27   2013-05-24 133.85 \n",
       "28   2013-05-25 133.22 \n",
       "29   2013-05-26 136.00 \n",
       "30   2013-05-27 135.47 \n",
       "⋮    ⋮          ⋮      \n",
       "1793 2018-03-25 8682.01\n",
       "1794 2018-03-26 8530.08\n",
       "1795 2018-03-27 8232.78\n",
       "1796 2018-03-28 8122.89\n",
       "1797 2018-03-29 7994.33\n",
       "1798 2018-03-30 7276.66\n",
       "1799 2018-03-31 7207.85\n",
       "1800 2018-04-01 7060.95\n",
       "1801 2018-04-02 7135.47\n",
       "1802 2018-04-03 7530.94\n",
       "1803 2018-04-04 7469.88\n",
       "1804 2018-04-05 6933.82\n",
       "1805 2018-04-06 6857.49\n",
       "1806 2018-04-07 7050.54\n",
       "1807 2018-04-08 7111.56\n",
       "1808 2018-04-09 7178.11\n",
       "1809 2018-04-10 6872.41\n",
       "1810 2018-04-11 6968.32\n",
       "1811 2018-04-12 7899.23\n",
       "1812 2018-04-13 8183.96\n",
       "1813 2018-04-14 8140.71\n",
       "1814 2018-04-15 8338.42\n",
       "1815 2018-04-16 8371.15\n",
       "1816 2018-04-17 8285.96\n",
       "1817 2018-04-18 8197.80\n",
       "1818 2018-04-19 8298.69\n",
       "1819 2018-04-20 8880.23\n",
       "1820 2018-04-21 8997.57\n",
       "1821 2018-04-22 9001.64\n",
       "1822 2018-04-23 8958.55"
      ]
     },
     "metadata": {},
     "output_type": "display_data"
    }
   ],
   "source": [
    "data"
   ]
  },
  {
   "cell_type": "code",
   "execution_count": null,
   "metadata": {},
   "outputs": [],
   "source": []
  }
 ],
 "metadata": {
  "kernelspec": {
   "display_name": "R",
   "language": "R",
   "name": "ir"
  },
  "language_info": {
   "codemirror_mode": "r",
   "file_extension": ".r",
   "mimetype": "text/x-r-source",
   "name": "R",
   "pygments_lexer": "r",
   "version": "3.6.1"
  }
 },
 "nbformat": 4,
 "nbformat_minor": 4
}
