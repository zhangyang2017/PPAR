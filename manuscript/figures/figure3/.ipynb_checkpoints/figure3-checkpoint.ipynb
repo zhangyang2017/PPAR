{
 "cells": [
  {
   "cell_type": "code",
   "execution_count": 1,
   "metadata": {},
   "outputs": [
    {
     "data": {
      "text/html": [
       "<dl>\n",
       "\t<dt>$platform</dt>\n",
       "\t\t<dd>'x86_64-apple-darwin15.6.0'</dd>\n",
       "\t<dt>$arch</dt>\n",
       "\t\t<dd>'x86_64'</dd>\n",
       "\t<dt>$os</dt>\n",
       "\t\t<dd>'darwin15.6.0'</dd>\n",
       "\t<dt>$system</dt>\n",
       "\t\t<dd>'x86_64, darwin15.6.0'</dd>\n",
       "\t<dt>$status</dt>\n",
       "\t\t<dd>''</dd>\n",
       "\t<dt>$major</dt>\n",
       "\t\t<dd>'3'</dd>\n",
       "\t<dt>$minor</dt>\n",
       "\t\t<dd>'6.1'</dd>\n",
       "\t<dt>$year</dt>\n",
       "\t\t<dd>'2019'</dd>\n",
       "\t<dt>$month</dt>\n",
       "\t\t<dd>'07'</dd>\n",
       "\t<dt>$day</dt>\n",
       "\t\t<dd>'05'</dd>\n",
       "\t<dt>$`svn rev`</dt>\n",
       "\t\t<dd>'76782'</dd>\n",
       "\t<dt>$language</dt>\n",
       "\t\t<dd>'R'</dd>\n",
       "\t<dt>$version.string</dt>\n",
       "\t\t<dd>'R version 3.6.1 (2019-07-05)'</dd>\n",
       "\t<dt>$nickname</dt>\n",
       "\t\t<dd>'Action of the Toes'</dd>\n",
       "</dl>\n"
      ],
      "text/latex": [
       "\\begin{description}\n",
       "\\item[\\$platform] 'x86\\_64-apple-darwin15.6.0'\n",
       "\\item[\\$arch] 'x86\\_64'\n",
       "\\item[\\$os] 'darwin15.6.0'\n",
       "\\item[\\$system] 'x86\\_64, darwin15.6.0'\n",
       "\\item[\\$status] ''\n",
       "\\item[\\$major] '3'\n",
       "\\item[\\$minor] '6.1'\n",
       "\\item[\\$year] '2019'\n",
       "\\item[\\$month] '07'\n",
       "\\item[\\$day] '05'\n",
       "\\item[\\$`svn rev`] '76782'\n",
       "\\item[\\$language] 'R'\n",
       "\\item[\\$version.string] 'R version 3.6.1 (2019-07-05)'\n",
       "\\item[\\$nickname] 'Action of the Toes'\n",
       "\\end{description}\n"
      ],
      "text/markdown": [
       "$platform\n",
       ":   'x86_64-apple-darwin15.6.0'\n",
       "$arch\n",
       ":   'x86_64'\n",
       "$os\n",
       ":   'darwin15.6.0'\n",
       "$system\n",
       ":   'x86_64, darwin15.6.0'\n",
       "$status\n",
       ":   ''\n",
       "$major\n",
       ":   '3'\n",
       "$minor\n",
       ":   '6.1'\n",
       "$year\n",
       ":   '2019'\n",
       "$month\n",
       ":   '07'\n",
       "$day\n",
       ":   '05'\n",
       "$`svn rev`\n",
       ":   '76782'\n",
       "$language\n",
       ":   'R'\n",
       "$version.string\n",
       ":   'R version 3.6.1 (2019-07-05)'\n",
       "$nickname\n",
       ":   'Action of the Toes'\n",
       "\n",
       "\n"
      ],
      "text/plain": [
       "$platform\n",
       "[1] \"x86_64-apple-darwin15.6.0\"\n",
       "\n",
       "$arch\n",
       "[1] \"x86_64\"\n",
       "\n",
       "$os\n",
       "[1] \"darwin15.6.0\"\n",
       "\n",
       "$system\n",
       "[1] \"x86_64, darwin15.6.0\"\n",
       "\n",
       "$status\n",
       "[1] \"\"\n",
       "\n",
       "$major\n",
       "[1] \"3\"\n",
       "\n",
       "$minor\n",
       "[1] \"6.1\"\n",
       "\n",
       "$year\n",
       "[1] \"2019\"\n",
       "\n",
       "$month\n",
       "[1] \"07\"\n",
       "\n",
       "$day\n",
       "[1] \"05\"\n",
       "\n",
       "$`svn rev`\n",
       "[1] \"76782\"\n",
       "\n",
       "$language\n",
       "[1] \"R\"\n",
       "\n",
       "$version.string\n",
       "[1] \"R version 3.6.1 (2019-07-05)\"\n",
       "\n",
       "$nickname\n",
       "[1] \"Action of the Toes\"\n"
      ]
     },
     "metadata": {},
     "output_type": "display_data"
    }
   ],
   "source": [
    "suppressPackageStartupMessages(library(dplyr))\n",
    "suppressPackageStartupMessages(library(ggplot2))\n",
    "suppressPackageStartupMessages(library(lsmeans))\n",
    "suppressPackageStartupMessages(library(patchwork))\n",
    "suppressPackageStartupMessages(library(export))\n",
    "R.Version()"
   ]
  },
  {
   "cell_type": "markdown",
   "metadata": {},
   "source": [
    "# Import data"
   ]
  },
  {
   "cell_type": "markdown",
   "metadata": {},
   "source": [
    "## - Phenotypes"
   ]
  },
  {
   "cell_type": "code",
   "execution_count": 3,
   "metadata": {},
   "outputs": [
    {
     "data": {
      "text/html": [
       "<table>\n",
       "<caption>A data.frame: 6 × 37</caption>\n",
       "<thead>\n",
       "\t<tr><th></th><th scope=col>ID</th><th scope=col>Treatment</th><th scope=col>Cal_cum</th><th scope=col>LV_TAG</th><th scope=col>lipidosis_area_pct</th><th scope=col>Fat_mass</th><th scope=col>subq_wt</th><th scope=col>epi_wat</th><th scope=col>mesenteric_wt</th><th scope=col>plasma_TAG</th><th scope=col>⋯</th><th scope=col>pedmeters_dark</th><th scope=col>vars</th><th scope=col>vars2</th><th scope=col>lv_tot_tag</th><th scope=col>EE_norm</th><th scope=col>fecal_tot_tag</th><th scope=col>kkcal</th><th scope=col>uptake_f</th><th scope=col>allMeters</th><th scope=col>allPeds</th></tr>\n",
       "\t<tr><th></th><th scope=col>&lt;int&gt;</th><th scope=col>&lt;fct&gt;</th><th scope=col>&lt;dbl&gt;</th><th scope=col>&lt;dbl&gt;</th><th scope=col>&lt;dbl&gt;</th><th scope=col>&lt;dbl&gt;</th><th scope=col>&lt;dbl&gt;</th><th scope=col>&lt;dbl&gt;</th><th scope=col>&lt;dbl&gt;</th><th scope=col>&lt;dbl&gt;</th><th scope=col>⋯</th><th scope=col>&lt;dbl&gt;</th><th scope=col>&lt;fct&gt;</th><th scope=col>&lt;fct&gt;</th><th scope=col>&lt;dbl&gt;</th><th scope=col>&lt;dbl&gt;</th><th scope=col>&lt;dbl&gt;</th><th scope=col>&lt;dbl&gt;</th><th scope=col>&lt;int&gt;</th><th scope=col>&lt;dbl&gt;</th><th scope=col>&lt;dbl&gt;</th></tr>\n",
       "</thead>\n",
       "<tbody>\n",
       "\t<tr><th scope=row>1</th><td>1</td><td>LFD</td><td>1425.870</td><td>367.77</td><td>17.596</td><td>11.152</td><td>0.40</td><td>1.80</td><td>0.33</td><td>38.547</td><td>⋯</td><td>146.4725</td><td>LFD</td><td>LFD</td><td>0.5810766</td><td>22.21568</td><td>17.55000</td><td>1.425870</td><td>23</td><td>227.4935</td><td>190.1555</td></tr>\n",
       "\t<tr><th scope=row>2</th><td>2</td><td>LFD</td><td>1241.231</td><td>400.53</td><td> 0.696</td><td> 7.357</td><td>0.72</td><td>1.34</td><td>0.48</td><td>53.408</td><td>⋯</td><td>195.6513</td><td>LFD</td><td>LFD</td><td>0.5126784</td><td>21.79943</td><td>15.02280</td><td>1.241231</td><td>26</td><td>267.6345</td><td>227.4692</td></tr>\n",
       "\t<tr><th scope=row>3</th><td>3</td><td>LFD</td><td>1298.180</td><td>379.47</td><td>17.311</td><td>10.517</td><td>0.89</td><td>2.08</td><td>0.94</td><td>68.087</td><td>⋯</td><td>186.3535</td><td>LFD</td><td>LFD</td><td>0.5236686</td><td>28.79635</td><td>13.38480</td><td>1.298180</td><td>23</td><td>251.1943</td><td>212.1898</td></tr>\n",
       "\t<tr><th scope=row>4</th><td>4</td><td>LFD</td><td>1812.026</td><td>332.67</td><td>16.353</td><td>12.781</td><td>0.78</td><td>2.13</td><td>0.54</td><td>37.492</td><td>⋯</td><td>136.4208</td><td>LFD</td><td>LFD</td><td>0.6520332</td><td>30.11525</td><td>20.70900</td><td>1.812026</td><td>34</td><td>295.1175</td><td>237.1283</td></tr>\n",
       "\t<tr><th scope=row>5</th><td>5</td><td>LFD</td><td>1373.638</td><td>408.33</td><td> 5.164</td><td> 6.385</td><td>0.26</td><td>0.97</td><td>0.32</td><td>46.053</td><td>⋯</td><td>195.0978</td><td>LFD</td><td>LFD</td><td>0.5634954</td><td>22.49855</td><td>17.52855</td><td>1.373638</td><td>29</td><td>262.2310</td><td>231.9523</td></tr>\n",
       "\t<tr><th scope=row>6</th><td>6</td><td>LFD</td><td>1448.174</td><td>454.35</td><td>22.362</td><td>11.460</td><td>0.99</td><td>2.07</td><td>0.60</td><td>45.932</td><td>⋯</td><td>115.4911</td><td>LFD</td><td>LFD</td><td>0.7224165</td><td>25.35729</td><td> 7.85460</td><td>1.448174</td><td>50</td><td>234.2913</td><td>177.0421</td></tr>\n",
       "</tbody>\n",
       "</table>\n"
      ],
      "text/latex": [
       "A data.frame: 6 × 37\n",
       "\\begin{tabular}{r|lllllllllllllllllllll}\n",
       "  & ID & Treatment & Cal\\_cum & LV\\_TAG & lipidosis\\_area\\_pct & Fat\\_mass & subq\\_wt & epi\\_wat & mesenteric\\_wt & plasma\\_TAG & ⋯ & pedmeters\\_dark & vars & vars2 & lv\\_tot\\_tag & EE\\_norm & fecal\\_tot\\_tag & kkcal & uptake\\_f & allMeters & allPeds\\\\\n",
       "  & <int> & <fct> & <dbl> & <dbl> & <dbl> & <dbl> & <dbl> & <dbl> & <dbl> & <dbl> & ⋯ & <dbl> & <fct> & <fct> & <dbl> & <dbl> & <dbl> & <dbl> & <int> & <dbl> & <dbl>\\\\\n",
       "\\hline\n",
       "\t1 & 1 & LFD & 1425.870 & 367.77 & 17.596 & 11.152 & 0.40 & 1.80 & 0.33 & 38.547 & ⋯ & 146.4725 & LFD & LFD & 0.5810766 & 22.21568 & 17.55000 & 1.425870 & 23 & 227.4935 & 190.1555\\\\\n",
       "\t2 & 2 & LFD & 1241.231 & 400.53 &  0.696 &  7.357 & 0.72 & 1.34 & 0.48 & 53.408 & ⋯ & 195.6513 & LFD & LFD & 0.5126784 & 21.79943 & 15.02280 & 1.241231 & 26 & 267.6345 & 227.4692\\\\\n",
       "\t3 & 3 & LFD & 1298.180 & 379.47 & 17.311 & 10.517 & 0.89 & 2.08 & 0.94 & 68.087 & ⋯ & 186.3535 & LFD & LFD & 0.5236686 & 28.79635 & 13.38480 & 1.298180 & 23 & 251.1943 & 212.1898\\\\\n",
       "\t4 & 4 & LFD & 1812.026 & 332.67 & 16.353 & 12.781 & 0.78 & 2.13 & 0.54 & 37.492 & ⋯ & 136.4208 & LFD & LFD & 0.6520332 & 30.11525 & 20.70900 & 1.812026 & 34 & 295.1175 & 237.1283\\\\\n",
       "\t5 & 5 & LFD & 1373.638 & 408.33 &  5.164 &  6.385 & 0.26 & 0.97 & 0.32 & 46.053 & ⋯ & 195.0978 & LFD & LFD & 0.5634954 & 22.49855 & 17.52855 & 1.373638 & 29 & 262.2310 & 231.9523\\\\\n",
       "\t6 & 6 & LFD & 1448.174 & 454.35 & 22.362 & 11.460 & 0.99 & 2.07 & 0.60 & 45.932 & ⋯ & 115.4911 & LFD & LFD & 0.7224165 & 25.35729 &  7.85460 & 1.448174 & 50 & 234.2913 & 177.0421\\\\\n",
       "\\end{tabular}\n"
      ],
      "text/markdown": [
       "\n",
       "A data.frame: 6 × 37\n",
       "\n",
       "| <!--/--> | ID &lt;int&gt; | Treatment &lt;fct&gt; | Cal_cum &lt;dbl&gt; | LV_TAG &lt;dbl&gt; | lipidosis_area_pct &lt;dbl&gt; | Fat_mass &lt;dbl&gt; | subq_wt &lt;dbl&gt; | epi_wat &lt;dbl&gt; | mesenteric_wt &lt;dbl&gt; | plasma_TAG &lt;dbl&gt; | ⋯ ⋯ | pedmeters_dark &lt;dbl&gt; | vars &lt;fct&gt; | vars2 &lt;fct&gt; | lv_tot_tag &lt;dbl&gt; | EE_norm &lt;dbl&gt; | fecal_tot_tag &lt;dbl&gt; | kkcal &lt;dbl&gt; | uptake_f &lt;int&gt; | allMeters &lt;dbl&gt; | allPeds &lt;dbl&gt; |\n",
       "|---|---|---|---|---|---|---|---|---|---|---|---|---|---|---|---|---|---|---|---|---|---|\n",
       "| 1 | 1 | LFD | 1425.870 | 367.77 | 17.596 | 11.152 | 0.40 | 1.80 | 0.33 | 38.547 | ⋯ | 146.4725 | LFD | LFD | 0.5810766 | 22.21568 | 17.55000 | 1.425870 | 23 | 227.4935 | 190.1555 |\n",
       "| 2 | 2 | LFD | 1241.231 | 400.53 |  0.696 |  7.357 | 0.72 | 1.34 | 0.48 | 53.408 | ⋯ | 195.6513 | LFD | LFD | 0.5126784 | 21.79943 | 15.02280 | 1.241231 | 26 | 267.6345 | 227.4692 |\n",
       "| 3 | 3 | LFD | 1298.180 | 379.47 | 17.311 | 10.517 | 0.89 | 2.08 | 0.94 | 68.087 | ⋯ | 186.3535 | LFD | LFD | 0.5236686 | 28.79635 | 13.38480 | 1.298180 | 23 | 251.1943 | 212.1898 |\n",
       "| 4 | 4 | LFD | 1812.026 | 332.67 | 16.353 | 12.781 | 0.78 | 2.13 | 0.54 | 37.492 | ⋯ | 136.4208 | LFD | LFD | 0.6520332 | 30.11525 | 20.70900 | 1.812026 | 34 | 295.1175 | 237.1283 |\n",
       "| 5 | 5 | LFD | 1373.638 | 408.33 |  5.164 |  6.385 | 0.26 | 0.97 | 0.32 | 46.053 | ⋯ | 195.0978 | LFD | LFD | 0.5634954 | 22.49855 | 17.52855 | 1.373638 | 29 | 262.2310 | 231.9523 |\n",
       "| 6 | 6 | LFD | 1448.174 | 454.35 | 22.362 | 11.460 | 0.99 | 2.07 | 0.60 | 45.932 | ⋯ | 115.4911 | LFD | LFD | 0.7224165 | 25.35729 |  7.85460 | 1.448174 | 50 | 234.2913 | 177.0421 |\n",
       "\n"
      ],
      "text/plain": [
       "  ID Treatment Cal_cum  LV_TAG lipidosis_area_pct Fat_mass subq_wt epi_wat\n",
       "1 1  LFD       1425.870 367.77 17.596             11.152   0.40    1.80   \n",
       "2 2  LFD       1241.231 400.53  0.696              7.357   0.72    1.34   \n",
       "3 3  LFD       1298.180 379.47 17.311             10.517   0.89    2.08   \n",
       "4 4  LFD       1812.026 332.67 16.353             12.781   0.78    2.13   \n",
       "5 5  LFD       1373.638 408.33  5.164              6.385   0.26    0.97   \n",
       "6 6  LFD       1448.174 454.35 22.362             11.460   0.99    2.07   \n",
       "  mesenteric_wt plasma_TAG ⋯ pedmeters_dark vars vars2 lv_tot_tag EE_norm \n",
       "1 0.33          38.547     ⋯ 146.4725       LFD  LFD   0.5810766  22.21568\n",
       "2 0.48          53.408     ⋯ 195.6513       LFD  LFD   0.5126784  21.79943\n",
       "3 0.94          68.087     ⋯ 186.3535       LFD  LFD   0.5236686  28.79635\n",
       "4 0.54          37.492     ⋯ 136.4208       LFD  LFD   0.6520332  30.11525\n",
       "5 0.32          46.053     ⋯ 195.0978       LFD  LFD   0.5634954  22.49855\n",
       "6 0.60          45.932     ⋯ 115.4911       LFD  LFD   0.7224165  25.35729\n",
       "  fecal_tot_tag kkcal    uptake_f allMeters allPeds \n",
       "1 17.55000      1.425870 23       227.4935  190.1555\n",
       "2 15.02280      1.241231 26       267.6345  227.4692\n",
       "3 13.38480      1.298180 23       251.1943  212.1898\n",
       "4 20.70900      1.812026 34       295.1175  237.1283\n",
       "5 17.52855      1.373638 29       262.2310  231.9523\n",
       "6  7.85460      1.448174 50       234.2913  177.0421"
      ]
     },
     "metadata": {},
     "output_type": "display_data"
    }
   ],
   "source": [
    "data <- read.csv(\"../data/fig2_table3.csv\", header = T); \n",
    "data$vars <- factor(data$Treatment, levels = c(\"LFD\", \"HFD\", \"HFD+LXN\", \"HFD+HXN\", \"HFD+TXN\"))\n",
    "data$vars2 <- factor(data$Treatment, levels = c(\"HFD\", \"HFD+LXN\", \"HFD+HXN\", \"HFD+TXN\", \"LFD\"))\n",
    "data <- data %>% mutate(lv_tot_tag = (LV_TAG * liver_wt)/1000,\n",
    "                        EE_norm = avgEE*1000/Lean_mass, \n",
    "                        fecal_tot_tag = TG_feces2*fecal_tot_output, \n",
    "                        kkcal = Cal_cum/1000,\n",
    "                        uptake_f = uptake_freq_light + uptake_freq_dark,\n",
    "                        allMeters = allmeters_light+allmeters_dark,\n",
    "                        allPeds = pedmeters_light+pedmeters_dark); head(data)\n",
    "txn <- data %>% filter(vars2 == \"HFD+TXN\"); hfd <- data %>% filter(vars2 == \"HFD\");\n",
    "lxn <- data %>% filter(vars2 == \"HFD+LXN\"); hxn <- data %>% filter(vars2 == \"HFD+HXN\");\n",
    "lfd <- data %>% filter(vars2 == \"LFD\")"
   ]
  },
  {
   "cell_type": "markdown",
   "metadata": {},
   "source": [
    "# Set theme, import functions"
   ]
  },
  {
   "cell_type": "code",
   "execution_count": 4,
   "metadata": {},
   "outputs": [],
   "source": [
    "theme_set(theme_bw())"
   ]
  },
  {
   "cell_type": "code",
   "execution_count": 5,
   "metadata": {},
   "outputs": [],
   "source": [
    "theme_legend2 = function(){\n",
    "\ttheme(axis.title.y = element_text(size = 15, \n",
    "\tmargin = margin(t=0, r=5, b=0, l=5)),\n",
    "\taxis.text.y = element_text(size = 13),\n",
    "\taxis.text.x = element_text(size = 13),\n",
    "\taxis.title.x = element_text(size = 15,\n",
    "                               margin = margin(t=10, r=5, b=0, l=0)),\n",
    "    plot.title = element_text(size = 15, face = \"bold\"),\n",
    "\tlegend.title = element_text(colour = \"white\"),\n",
    "\tlegend.text = element_text(size = 16),\n",
    "\tlegend.position = \"none\",\n",
    "\tplot.margin = unit(c(0.5,0.5,0,0.5), \"cm\"),\n",
    "\tpanel.grid = element_blank())\n",
    "}"
   ]
  },
  {
   "cell_type": "code",
   "execution_count": 6,
   "metadata": {},
   "outputs": [],
   "source": [
    "source(\"../src/ggplotRegression.R\")"
   ]
  },
  {
   "cell_type": "code",
   "execution_count": 7,
   "metadata": {},
   "outputs": [],
   "source": [
    "mycolor <- c(\"#0080ff\", \"#ffa500\", \"red\", \"darkgreen\", \"black\")\n",
    "mycolor_alpha <- c(\"#8AB5F9\", \"#F8CB89\", \"#F08581\", \"#87A57E\", \"#797979\")"
   ]
  },
  {
   "cell_type": "code",
   "execution_count": 8,
   "metadata": {},
   "outputs": [],
   "source": [
    "Contrasts <- list(\n",
    "    'LFD vs HFD' = c(-1, 0, 0, 0, 1),\n",
    "    'LXN vs HFD' = c(-1, 1, 0, 0, 0),\n",
    "    'HXN vs HFD' = c(-1, 0, 1, 0, 0),\n",
    "    'TXN vs HFD' = c(-1, 0, 0, 1, 0))"
   ]
  },
  {
   "cell_type": "markdown",
   "metadata": {},
   "source": [
    "# Figures"
   ]
  },
  {
   "cell_type": "markdown",
   "metadata": {},
   "source": [
    "## individual fat mass and caloric intake"
   ]
  },
  {
   "cell_type": "markdown",
   "metadata": {},
   "source": [
    "#### - A. subq"
   ]
  },
  {
   "cell_type": "code",
   "execution_count": 9,
   "metadata": {},
   "outputs": [
    {
     "data": {
      "text/plain": [
       " contrast   estimate    SE df t.ratio p.value\n",
       " LFD vs HFD   -1.479 0.170 54 -8.720  <.0001 \n",
       " LXN vs HFD   -0.189 0.170 54 -1.115  0.2697 \n",
       " HXN vs HFD   -0.458 0.170 54 -2.697  0.0093 \n",
       " TXN vs HFD   -1.079 0.173 54 -6.224  <.0001 \n"
      ]
     },
     "metadata": {},
     "output_type": "display_data"
    }
   ],
   "source": [
    "model <- lm(subq_wt ~ vars2, data = data)\n",
    "leastsquare <- lsmeans(model, \"vars2\")\n",
    "contrast(leastsquare, Contrasts, adjust = \"none\")"
   ]
  },
  {
   "cell_type": "code",
   "execution_count": null,
   "metadata": {},
   "outputs": [],
   "source": [
    "A <- ggplot(data = data, aes(x = vars2, y = subq_wt, fill = vars2)) +\n",
    "\tstat_boxplot(geom = 'errorbar', linetype = 1, width = 0.2) +\n",
    "\tgeom_boxplot(outlier.shape = NA) +\n",
    "\tscale_fill_manual(values = mycolor_alpha) +\n",
    "\tgeom_jitter(shape = 20, size = 3, width = 0.2, height = 0.1) +\n",
    "    labs(x=\"\",y=\"g\",title=\"A. Subcutaneous fat\") +\n",
    "\ttheme_legend2()\n",
    "\n",
    "label.df <- data.frame(vars2 = c(\"HFD+HXN\", \"HFD+TXN\", \"LFD\"),\n",
    "                       subq_wt = c(2.55, 1.75, 1))\n",
    "A <- A + geom_text(data = label.df, label = c(\"**\", \"***\", \"***\"), color='red', size = 8)"
   ]
  }
 ],
 "metadata": {
  "kernelspec": {
   "display_name": "R",
   "language": "R",
   "name": "ir"
  },
  "language_info": {
   "codemirror_mode": "r",
   "file_extension": ".r",
   "mimetype": "text/x-r-source",
   "name": "R",
   "pygments_lexer": "r",
   "version": "3.6.1"
  }
 },
 "nbformat": 4,
 "nbformat_minor": 4
}
