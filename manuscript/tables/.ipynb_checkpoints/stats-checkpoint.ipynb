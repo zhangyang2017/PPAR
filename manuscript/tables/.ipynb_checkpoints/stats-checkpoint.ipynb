{
 "cells": [
  {
   "cell_type": "code",
   "execution_count": 1,
   "metadata": {},
   "outputs": [
    {
     "data": {
      "text/html": [
       "<table>\n",
       "<caption>A data.frame: 6 × 5</caption>\n",
       "<thead>\n",
       "\t<tr><th></th><th scope=col>ID</th><th scope=col>Treatment</th><th scope=col>Cal_cum</th><th scope=col>LV_TAG</th><th scope=col>lipidosis_area_pct</th></tr>\n",
       "\t<tr><th></th><th scope=col>&lt;int&gt;</th><th scope=col>&lt;fct&gt;</th><th scope=col>&lt;dbl&gt;</th><th scope=col>&lt;dbl&gt;</th><th scope=col>&lt;dbl&gt;</th></tr>\n",
       "</thead>\n",
       "<tbody>\n",
       "\t<tr><th scope=row>1</th><td>1</td><td>LFD</td><td>1425.870</td><td>367.77</td><td>17.596</td></tr>\n",
       "\t<tr><th scope=row>2</th><td>2</td><td>LFD</td><td>1241.231</td><td>400.53</td><td> 0.696</td></tr>\n",
       "\t<tr><th scope=row>3</th><td>3</td><td>LFD</td><td>1298.180</td><td>379.47</td><td>17.311</td></tr>\n",
       "\t<tr><th scope=row>4</th><td>4</td><td>LFD</td><td>1812.026</td><td>332.67</td><td>16.353</td></tr>\n",
       "\t<tr><th scope=row>5</th><td>5</td><td>LFD</td><td>1373.638</td><td>408.33</td><td> 5.164</td></tr>\n",
       "\t<tr><th scope=row>6</th><td>6</td><td>LFD</td><td>1448.174</td><td>454.35</td><td>22.362</td></tr>\n",
       "</tbody>\n",
       "</table>\n"
      ],
      "text/latex": [
       "A data.frame: 6 × 5\n",
       "\\begin{tabular}{r|lllll}\n",
       "  & ID & Treatment & Cal\\_cum & LV\\_TAG & lipidosis\\_area\\_pct\\\\\n",
       "  & <int> & <fct> & <dbl> & <dbl> & <dbl>\\\\\n",
       "\\hline\n",
       "\t1 & 1 & LFD & 1425.870 & 367.77 & 17.596\\\\\n",
       "\t2 & 2 & LFD & 1241.231 & 400.53 &  0.696\\\\\n",
       "\t3 & 3 & LFD & 1298.180 & 379.47 & 17.311\\\\\n",
       "\t4 & 4 & LFD & 1812.026 & 332.67 & 16.353\\\\\n",
       "\t5 & 5 & LFD & 1373.638 & 408.33 &  5.164\\\\\n",
       "\t6 & 6 & LFD & 1448.174 & 454.35 & 22.362\\\\\n",
       "\\end{tabular}\n"
      ],
      "text/markdown": [
       "\n",
       "A data.frame: 6 × 5\n",
       "\n",
       "| <!--/--> | ID &lt;int&gt; | Treatment &lt;fct&gt; | Cal_cum &lt;dbl&gt; | LV_TAG &lt;dbl&gt; | lipidosis_area_pct &lt;dbl&gt; |\n",
       "|---|---|---|---|---|---|\n",
       "| 1 | 1 | LFD | 1425.870 | 367.77 | 17.596 |\n",
       "| 2 | 2 | LFD | 1241.231 | 400.53 |  0.696 |\n",
       "| 3 | 3 | LFD | 1298.180 | 379.47 | 17.311 |\n",
       "| 4 | 4 | LFD | 1812.026 | 332.67 | 16.353 |\n",
       "| 5 | 5 | LFD | 1373.638 | 408.33 |  5.164 |\n",
       "| 6 | 6 | LFD | 1448.174 | 454.35 | 22.362 |\n",
       "\n"
      ],
      "text/plain": [
       "  ID Treatment Cal_cum  LV_TAG lipidosis_area_pct\n",
       "1 1  LFD       1425.870 367.77 17.596            \n",
       "2 2  LFD       1241.231 400.53  0.696            \n",
       "3 3  LFD       1298.180 379.47 17.311            \n",
       "4 4  LFD       1812.026 332.67 16.353            \n",
       "5 5  LFD       1373.638 408.33  5.164            \n",
       "6 6  LFD       1448.174 454.35 22.362            "
      ]
     },
     "metadata": {},
     "output_type": "display_data"
    }
   ],
   "source": [
    "data <- read.csv(\"table3.csv\", header = T)\n",
    "head(data)"
   ]
  },
  {
   "cell_type": "code",
   "execution_count": 11,
   "metadata": {},
   "outputs": [],
   "source": [
    "df <- cor.test(data$LV_TAG, data$Cal_cum)"
   ]
  },
  {
   "cell_type": "code",
   "execution_count": 12,
   "metadata": {},
   "outputs": [
    {
     "data": {
      "text/html": [
       "0.00557407991598821"
      ],
      "text/latex": [
       "0.00557407991598821"
      ],
      "text/markdown": [
       "0.00557407991598821"
      ],
      "text/plain": [
       "[1] 0.00557408"
      ]
     },
     "metadata": {},
     "output_type": "display_data"
    }
   ],
   "source": [
    "df$p.value"
   ]
  },
  {
   "cell_type": "code",
   "execution_count": 3,
   "metadata": {},
   "outputs": [
    {
     "name": "stderr",
     "output_type": "stream",
     "text": [
      "Loading required package: dplyr\n",
      "\n",
      "\n",
      "Attaching package: ‘dplyr’\n",
      "\n",
      "\n",
      "The following objects are masked from ‘package:stats’:\n",
      "\n",
      "    filter, lag\n",
      "\n",
      "\n",
      "The following objects are masked from ‘package:base’:\n",
      "\n",
      "    intersect, setdiff, setequal, union\n",
      "\n",
      "\n"
     ]
    }
   ],
   "source": [
    "require(dplyr)"
   ]
  },
  {
   "cell_type": "code",
   "execution_count": 16,
   "metadata": {},
   "outputs": [],
   "source": [
    "correlate <- data %>%\n",
    "group_by(Treatment) %>%\n",
    "summarise(r = cor(lipidosis_area_pct, Cal_cum), \n",
    "          pvalue = cor.test(lipidosis_area_pct, Cal_cum)$p.value)"
   ]
  },
  {
   "cell_type": "code",
   "execution_count": 17,
   "metadata": {},
   "outputs": [
    {
     "data": {
      "text/html": [
       "<table>\n",
       "<caption>A tibble: 5 × 3</caption>\n",
       "<thead>\n",
       "\t<tr><th scope=col>Treatment</th><th scope=col>r</th><th scope=col>pvalue</th></tr>\n",
       "\t<tr><th scope=col>&lt;fct&gt;</th><th scope=col>&lt;dbl&gt;</th><th scope=col>&lt;dbl&gt;</th></tr>\n",
       "</thead>\n",
       "<tbody>\n",
       "\t<tr><td>HFD    </td><td>0.56652082</td><td>0.05479645</td></tr>\n",
       "\t<tr><td>HFD+HXN</td><td>0.12279035</td><td>0.70381359</td></tr>\n",
       "\t<tr><td>HFD+LXN</td><td>0.32544772</td><td>0.30194969</td></tr>\n",
       "\t<tr><td>HFD+TXN</td><td>0.07569276</td><td>0.82494431</td></tr>\n",
       "\t<tr><td>LFD    </td><td>0.61102758</td><td>0.03479538</td></tr>\n",
       "</tbody>\n",
       "</table>\n"
      ],
      "text/latex": [
       "A tibble: 5 × 3\n",
       "\\begin{tabular}{lll}\n",
       " Treatment & r & pvalue\\\\\n",
       " <fct> & <dbl> & <dbl>\\\\\n",
       "\\hline\n",
       "\t HFD     & 0.56652082 & 0.05479645\\\\\n",
       "\t HFD+HXN & 0.12279035 & 0.70381359\\\\\n",
       "\t HFD+LXN & 0.32544772 & 0.30194969\\\\\n",
       "\t HFD+TXN & 0.07569276 & 0.82494431\\\\\n",
       "\t LFD     & 0.61102758 & 0.03479538\\\\\n",
       "\\end{tabular}\n"
      ],
      "text/markdown": [
       "\n",
       "A tibble: 5 × 3\n",
       "\n",
       "| Treatment &lt;fct&gt; | r &lt;dbl&gt; | pvalue &lt;dbl&gt; |\n",
       "|---|---|---|\n",
       "| HFD     | 0.56652082 | 0.05479645 |\n",
       "| HFD+HXN | 0.12279035 | 0.70381359 |\n",
       "| HFD+LXN | 0.32544772 | 0.30194969 |\n",
       "| HFD+TXN | 0.07569276 | 0.82494431 |\n",
       "| LFD     | 0.61102758 | 0.03479538 |\n",
       "\n"
      ],
      "text/plain": [
       "  Treatment r          pvalue    \n",
       "1 HFD       0.56652082 0.05479645\n",
       "2 HFD+HXN   0.12279035 0.70381359\n",
       "3 HFD+LXN   0.32544772 0.30194969\n",
       "4 HFD+TXN   0.07569276 0.82494431\n",
       "5 LFD       0.61102758 0.03479538"
      ]
     },
     "metadata": {},
     "output_type": "display_data"
    }
   ],
   "source": [
    "correlate"
   ]
  },
  {
   "cell_type": "code",
   "execution_count": null,
   "metadata": {},
   "outputs": [],
   "source": []
  }
 ],
 "metadata": {
  "kernelspec": {
   "display_name": "R",
   "language": "R",
   "name": "ir"
  },
  "language_info": {
   "codemirror_mode": "r",
   "file_extension": ".r",
   "mimetype": "text/x-r-source",
   "name": "R",
   "pygments_lexer": "r",
   "version": "3.6.1"
  }
 },
 "nbformat": 4,
 "nbformat_minor": 2
}
